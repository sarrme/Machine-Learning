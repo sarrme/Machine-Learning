{
 "cells": [
  {
   "cell_type": "markdown",
   "metadata": {},
   "source": [
    "\n",
    "\n",
    "## Chatbot with a sequence to sequence network and attention\n",
    "*************************************************************\n",
    "\n",
    "\n",
    "In this tutorial, you will learn how to teach a recurrent neural network to anwers various questions about the admission to the master in Data Science of Lyon 1** to varying degrees of success... \n",
    "\n",
    "From Siri to Google Translate, deep neural networks have enabled breakthroughs in machine understanding of natural language. Most of these models treat language as a flat sequence of words or characters, and use a kind of model called a recurrent neural network (RNN) to process this sequence\n",
    "\n",
    "The code was adapated by Alex Aussem from the Pytorch example \"Translation with a Sequence to Sequence Network and Attention\". **Author**: `Sean Robertson <https://github.com/spro/practical-pytorch>`\n",
    "\n",
    "Sentences are in French. Example: [> input, = target, < output]\n",
    "\n",
    "    \n",
    "    > pourriez vous me renseigner ?\n",
    "    = oui volontiers d ou venez vous ?\n",
    "    < oui volontiers <EOS>\n",
    "\n",
    "    > quel est le corps professoral ?\n",
    "    = il est compose de chercheurs du liris \n",
    "    < il est compose de chercheurs du liris  <EOS>\n",
    "    \n",
    "To deal with these types of variable-length input and output, we need to use a recurrent neural network (RNN). Feed-forward neural networks, such as convolutional neural networks, do not maintain internal state other than the network’s own parameters. An RNN maintains its internal state while reading a sequence of inputs, which in our case will be a sequence of words, thereby being able to process an input of any length.\n",
    "\n",
    "This is made possible by the simple but powerful idea of the `sequence\n",
    "to sequence network <http://arxiv.org/abs/1409.3215>`, in which two\n",
    "recurrent neural networks work together to transform one sequence to\n",
    "another. An encoder network condenses an input sequence into a vector,\n",
    "and a decoder network unfolds that vector into a new sequence.\n",
    "\n",
    "To improve upon this model we'll use an **attention mechanism**, which lets the decoder\n",
    "learn to focus over a specific range of the input sequence. The approach of incorporating attention mechanism has become one of the hottest topics in deep learning recently (<https://arxiv.org/abs/1507.01053>, <https://arxiv.org/abs/1409.0473>`).\n",
    "\n",
    "\n",
    "**Recommended Reading:**\n",
    "\n",
    "-  http://pytorch.org/ For installation instructions\n",
    "-  doc:`/beginner/deep_learning_60min_blitz` to get started with PyTorch in general\n",
    "-  doc:`/beginner/pytorch_with_examples` for a wide and deep overview\n",
    "\n",
    "\n",
    "It would also be useful to know about Sequence to Sequence networks and\n",
    "how they work:\n",
    "\n",
    "-  'Recursive Neural Networks with PyTorch with a recurrent tracker and TreeLSTM nodes\n",
    "    <https://devblogs.nvidia.com/parallelforall/recursive-neural-networks-pytorch>`\n",
    "-  `Learning Phrase Representations using RNN Encoder-Decoder for\n",
    "   Statistical Machine Translation <http://arxiv.org/abs/1406.1078>`\n",
    "-  `Sequence to Sequence Learning with Neural\n",
    "   Networks <http://arxiv.org/abs/1409.3215>`\n",
    "-  `Neural Machine Translation by Jointly Learning to Align and\n",
    "   Translate <https://arxiv.org/abs/1409.0473>`\n",
    "-  `A Neural Conversational Model <http://arxiv.org/abs/1506.05869>`\n",
    "-  `Sequence to Sequence Learning with Neural\n",
    "   Networks <http://arxiv.org/abs/1409.3215>`\n",
    "-  `Neural Machine Translation by Jointly Learning to Align and\n",
    "   Translate <https://arxiv.org/abs/1409.0473>`\n",
    "-  `A Neural Conversational Model <http://arxiv.org/abs/1506.05869>`\n"
   ]
  },
  {
   "cell_type": "code",
   "execution_count": 1,
   "metadata": {},
   "outputs": [],
   "source": [
    "from __future__ import unicode_literals, print_function, division\n",
    "from io import open\n",
    "import unicodedata\n",
    "import string\n",
    "import re\n",
    "import random\n",
    "import numpy as np\n",
    "\n",
    "import torch\n",
    "import torch.nn as nn\n",
    "from torch.autograd import Variable\n",
    "from torch import optim\n",
    "import torch.nn.functional as F"
   ]
  },
  {
   "cell_type": "code",
   "execution_count": 2,
   "metadata": {},
   "outputs": [],
   "source": [
    "%matplotlib inline"
   ]
  },
  {
   "cell_type": "code",
   "execution_count": 3,
   "metadata": {},
   "outputs": [],
   "source": [
    "import warnings\n",
    "warnings.filterwarnings(\"ignore\")"
   ]
  },
  {
   "cell_type": "markdown",
   "metadata": {},
   "source": [
    "Loading data files\n",
    "==================\n",
    "\n",
    "The data for this project is a set of questions/anwers pairs.\n"
   ]
  },
  {
   "cell_type": "markdown",
   "metadata": {},
   "source": [
    "We will be representing each word in a language as a one-hot\n",
    "vector, or giant vector of zeros except for a single one (at the index\n",
    "of the word). Compared to the dozens of characters that might exist in a\n",
    "language, there are many many more words, so the encoding vector is much\n",
    "larger. We will however cheat a bit and trim the data to only use a few\n",
    "hundred words per language."
   ]
  },
  {
   "cell_type": "markdown",
   "metadata": {},
   "source": [
    "We'll need a unique index per word to use as the inputs and targets of\n",
    "the networks later. To keep track of all this we will use a helper class\n",
    "called ``Lang`` which has word → index (``word2index``) and index → word\n",
    "(``index2word``) dictionaries, as well as a count of each word\n",
    "``word2count`` to use to later replace rare words.\n",
    "\n",
    "\n"
   ]
  },
  {
   "cell_type": "code",
   "execution_count": 4,
   "metadata": {},
   "outputs": [],
   "source": [
    "SOS_token = 0\n",
    "EOS_token = 1\n",
    "\n",
    "class Lang:\n",
    "    def __init__(self, name):\n",
    "        self.name = name\n",
    "        self.word2index = {}\n",
    "        self.word2count = {}\n",
    "        self.index2word = {0: \"SOS\", 1: \"EOS\"}\n",
    "        self.n_words = 2  # Count SOS and EOS\n",
    "\n",
    "    def addSentence(self, sentence):\n",
    "        for word in sentence.split():\n",
    "            if word == '':\n",
    "                print('****************',sentence)\n",
    "            self.addWord(word)\n",
    "         \n",
    "    def addWord(self, word):\n",
    "        if word not in self.word2index:\n",
    "            self.word2index[word] = self.n_words\n",
    "            self.word2count[word] = 1\n",
    "            self.index2word[self.n_words] = word\n",
    "            self.n_words += 1\n",
    "        else:\n",
    "            self.word2count[word] += 1"
   ]
  },
  {
   "cell_type": "markdown",
   "metadata": {},
   "source": [
    "The files are all in Unicode, to simplify we will turn Unicode\n",
    "characters to ASCII, make everything lowercase, and trim most\n",
    "punctuation.\n",
    "\n",
    "\n"
   ]
  },
  {
   "cell_type": "code",
   "execution_count": 5,
   "metadata": {},
   "outputs": [],
   "source": [
    "# Turn a Unicode string to plain ASCII, thanks to\n",
    "# http://stackoverflow.com/a/518232/2809427\n",
    "def unicodeToAscii(s):\n",
    "    return ''.join(\n",
    "        c for c in unicodedata.normalize('NFD', s)\n",
    "        if unicodedata.category(c) != 'Mn'\n",
    "    )\n",
    "\n",
    "# Lowercase, trim, and remove non-letter characters except digits\n",
    "def normalizeString(s):\n",
    "    s = unicodeToAscii(s.lower().strip())\n",
    "    #s = re.sub(r\"([.!?])\", r\" \\1\", s)\n",
    "    #s = re.sub(r\"[^a-zA-Z.!?]+\", r\" \", s)\n",
    "    #s = re.sub(r\"[^a-zA-Z0-9?]+\", r\" \", s)\n",
    "    #s = re.sub(r\"[^a-zA-Z0-9?&\\'\\’\\%\\-]+\", r\" \", s)\n",
    "    s = re.sub(r\"[^a-zA-Z0-9?&\\%\\-]+\", r\" \", s)\n",
    "    return s"
   ]
  },
  {
   "cell_type": "code",
   "execution_count": 6,
   "metadata": {},
   "outputs": [
    {
     "name": "stdout",
     "output_type": "stream",
     "text": [
      "il eut ete bien de s inscrire en 2017 n est-ce pas ?\n"
     ]
    }
   ],
   "source": [
    "s=\"Il eût été bien de s'inscrire en 2017 !! N'est-ce pas ?\"\n",
    "s = normalizeString(s)\n",
    "print(s)"
   ]
  },
  {
   "cell_type": "markdown",
   "metadata": {},
   "source": [
    "To read the data file we will split the file into lines, and then split\n",
    "lines into pairs. If we want to infer the question from the answers, the ``reverse``\n",
    "flag is added to reverse the pairs.\n"
   ]
  },
  {
   "cell_type": "code",
   "execution_count": 7,
   "metadata": {},
   "outputs": [],
   "source": [
    "def readLangs(questions, answers, reverse=False):\n",
    "    print(\"Reading lines...\")\n",
    "        \n",
    "    lines = open('data/chatbot-M2-DS.txt', encoding='utf-8').\\\n",
    "        read().strip().split('\\n')\n",
    "    # Split every line into pairs and normalize\n",
    "    pairs = [[normalizeString(s) for s in l.split('\\t')] for l in lines]\n",
    "\n",
    "    # Reverse pairs, make Lang instances\n",
    "    if reverse:\n",
    "        pairs = [list(reversed(p)) for p in pairs]\n",
    "        input_lang = Lang(answers)\n",
    "        output_lang = Lang(questions)\n",
    "    else:\n",
    "        input_lang = Lang(questions)\n",
    "        output_lang = Lang(answers)\n",
    "\n",
    "    return input_lang, output_lang, pairs"
   ]
  },
  {
   "cell_type": "markdown",
   "metadata": {},
   "source": [
    "Here we set a limit to the length of input words (that includes ending punctuation + EOS token). The maximum input sentence length has to be determined in advance in order to parametrize the attention mechanism."
   ]
  },
  {
   "cell_type": "code",
   "execution_count": 8,
   "metadata": {},
   "outputs": [],
   "source": [
    "MAX_LENGTH = 15\n",
    "\n",
    "#stopwords = 'de du des d le la les l ce c ci ça m me ma si t sur n en s si a y au un une on il nous vous je j'.split()\n",
    "\n",
    "stopwords = []\n",
    "\n",
    "def TrimWordsSentence(sentence):\n",
    "    resultwords = [word for word in sentence.split() if word.lower() not in stopwords]\n",
    "    resultwords = ' '.join(resultwords)\n",
    "    return resultwords\n",
    "\n",
    "def TrimWords(pairs):\n",
    "    for pair in pairs: \n",
    "        pair[0] = TrimWordsSentence(pair[0])\n",
    "        #pair[1] = pair[1].strip()\n",
    "    return pairs\n",
    "\n",
    "def filterPair(p):\n",
    "    return len(p[0].split()) < MAX_LENGTH and \\\n",
    "        len(p[1].split()) < MAX_LENGTH \n",
    "\n",
    "def filterPairs(pairs):\n",
    "    return [pair for pair in pairs if filterPair(pair)]"
   ]
  },
  {
   "cell_type": "code",
   "execution_count": 9,
   "metadata": {},
   "outputs": [
    {
     "name": "stdout",
     "output_type": "stream",
     "text": [
      "Il eût été bien de s'inscrire en 2017 !! N'est-ce pas ?\n",
      "il eut ete bien de s inscrire en 2017 n est-ce pas ?\n",
      "il eut ete bien de s inscrire en 2017 n est-ce pas ?\n"
     ]
    }
   ],
   "source": [
    "s=\"Il eût été bien de s'inscrire en 2017 !! N'est-ce pas ?\"\n",
    "print(s)\n",
    "s = normalizeString(s)\n",
    "print(s)\n",
    "s = TrimWordsSentence(s)\n",
    "print(s)"
   ]
  },
  {
   "cell_type": "markdown",
   "metadata": {},
   "source": [
    "The full process for preparing the data is:\n",
    "\n",
    "-  Read text file and split into lines, split lines into pairs\n",
    "-  Normalize text, filter by length and content\n",
    "-  Make word lists from sentences in pairs\n",
    "\n",
    "\n"
   ]
  },
  {
   "cell_type": "code",
   "execution_count": 10,
   "metadata": {},
   "outputs": [],
   "source": [
    "def prepareData(lang1, lang2, reverse=False):\n",
    "    input_lang, output_lang, pairs = readLangs(lang1, lang2, reverse)\n",
    "    print(\"Read %s sentence pairs\" % len(pairs))\n",
    "    pairs = TrimWords(pairs)\n",
    "    \n",
    "    for pair in [pair for pair in pairs if not filterPair(pair)]:\n",
    "        print('%s (%d) -> %s (%d)' % (pair[0],len(pair[0].split()),pair[1],len(pair[1].split())))  \n",
    "    \n",
    "    pairs = filterPairs(pairs)\n",
    "    \n",
    "    print('')\n",
    "    print(\"Trimmed to %s sentence pairs\" % len(pairs))\n",
    "    print(\"Counting words...\")\n",
    "    for pair in pairs:\n",
    "        input_lang.addSentence(pair[0])\n",
    "        output_lang.addSentence(pair[1])\n",
    "        if '' in output_lang.word2index: print(pair[1].split())\n",
    "    print(\"Counted words:\")\n",
    "    print(input_lang.name, input_lang.n_words)\n",
    "    print(output_lang.name, output_lang.n_words)\n",
    "    return input_lang, output_lang, pairs"
   ]
  },
  {
   "cell_type": "code",
   "execution_count": 11,
   "metadata": {},
   "outputs": [
    {
     "name": "stdout",
     "output_type": "stream",
     "text": [
      "Reading lines...\n",
      "Read 300 sentence pairs\n",
      "l y a plusieurs parcours ? (6) -> oui tout a fait deux parcours sont proposes pour le master data science le parcours mathematiques et le parcours informatique (20)\n",
      "quelles sont les mentions ? (5) -> deux parcours sont proposes pour le master data science le parcours mathematiques et le parcours informatique (16)\n",
      "il y a plusieurs parcours ? (6) -> oui tout a fait deux parcours sont proposes pour le master data science le parcours mathematiques et le parcours informatique (20)\n",
      "l faut obligatoirement avoir fait de l informatique pour candidater ? (11) -> non le master est ouvert aux etudiants d informatique de mathematiques et d un cursus ingenieur (16)\n",
      "il y a plusieurs parcours ? (6) -> oui tout a fait deux parcours sont proposes pour le master data science le parcours mathematiques et le parcours informatique (20)\n",
      "qui peut candidater ? (4) -> le master est ouvert aux etudiants titulaires d un master 1 en informatique mathematiques ou issus d un cursus ingenieur (20)\n",
      "faut-il faire un projet de fin d etude ? (9) -> oui il y a plusieurs projets a realiser et a presenter en fin d etudes (15)\n",
      "quand est-ce que le stage commence ? (7) -> le stage ne doit pas demarrer avant fin janvier et ne peut depasser le 30 septembre (16)\n",
      "il faut avoir un stage avant le debut des cours ? (11) -> non il n est pas necessaire de trouver un stage avant le debut des cours (15)\n",
      "il faut trouver un stage avant le debut des cours ? (11) -> non il n est pas necessaire de trouver un stage avant le debut des cours (15)\n",
      "on doit trouver un stage avant de commencer ? (9) -> non il n est pas necessaire de trouver un stage avant le debut des cours (15)\n",
      "il faut avoir un stage avant de commencer le master ? (11) -> non il n est pas necessaire d avoir un stage avant de commencer le master (15)\n",
      "on peut faire son stage a l etranger ? (9) -> oui vous pouvez faire votre stage ou vous le souhaitez sous reserve de validation par l universite (17)\n",
      "il faut connaitre le python ? (6) -> il n est pas necessaire de maitriser ce langage mais plus vous en savez mieux c est (17)\n",
      "il faut connaitre le r ? (6) -> il n est pas necessaire de maitriser ce langage mais plus vous en savez mieux c est (17)\n",
      "on doit apprendre le scala ? (6) -> il n est pas necessaire de maitriser ce langage mais plus vous en savez mieux c est (17)\n",
      "c est obligatoire de connaitre le python ? (8) -> il n est pas necessaire de maitriser ce langage mais plus vous en savez mieux c est (17)\n",
      "\n",
      "Trimmed to 283 sentence pairs\n",
      "Counting words...\n",
      "Counted words:\n",
      "questions 338\n",
      "answers 339\n",
      "['merci pour les renseignements', 'de rien']\n"
     ]
    }
   ],
   "source": [
    "input_lang, output_lang, pairs = prepareData('questions', 'answers', False)\n",
    "print(random.choice(pairs))\n",
    "#print(indexesFromSentence(input_lang,'bonjour'))\n",
    "#print(input_lang.index2word[102], '->',input_lang.word2index['bonjour'])"
   ]
  },
  {
   "cell_type": "code",
   "execution_count": 12,
   "metadata": {},
   "outputs": [
    {
     "name": "stdout",
     "output_type": "stream",
     "text": [
      "{'avoir', 'machine', 'rendre', 'niveau', 'math', '2', 'je', 'remuneration', 'aux', 'pouvez', 'debut', 't-il', 'd', 'physique', 'alternance', 'indecis', 'questions', 'tu', 'e-candidat', 'carte', 'pas', 'nom', 'si', 'qu', 'professeur', 'fait', 'me', 'doit', 'eu', 'avec', 'vous', 'votre', 'gros', 'ans', 'chercheurs', 'savoir', 'inscrire', 'connaissances', 'prepare', 'mentions', 'enseignants', 'annees', 'dispenses', 'une', 'marseille', 'puis-je', 'etudiants', 'oblige', 'nantes', 'qui', 'merci', 'entre', 'faut-il', 'beaucoup', 'bonjour', 'types', 'gentil', 'donnes', 'suis', 'transversaux', 'mining', 'vaut', 'lyon', 'ue', 'retirer', 'gratification', 'embauche', 'peux', 'responsable', 'pedagogie', 'sont-ils', 'a-t-il', 'learning', 'ues', 'ancien', 'passer', 'annee', 'paris', 'projets', 'parallele', 'projet', 'reims', 'cours', 'date', 'cela', 'est-ce', 'ont', '?', 'ai', 'du', 'et', 'necessaires?', 'bien', 'redoublants', 'salaire', 'salut', 'encadre', 'info', 'createur', 'langue', 'candidats', 'reponse', 'cursus', 'salutations', 'pendant', 'n', 'de', 'sympa', 'as', 'que', 'ton', 's', 'possible', 't', 'langage', 'ou', 'prerequis', 'etre', 'metier', 'detail', 'fais', 'aurais', 'developper', 'pourrais-je', 'angers', 'm2', 'viens', 'fin', 'besoin', 'aurais-je', 'demandees', 'renseigner', 'recommendation', 'dernier', 'corps', 'strasbourg', 'contacter', 'cordialement', 'quoi', 'rappels', 'un', 'pro', 'vacances', 'quelle', 'rate', 'pour', 'dure', 'ouvert', 'en', 'pourquoi', 'doctorat', 'enseignement', 'etudes', 'debouches', 'week-end', 'avant', 'refaire', 'faut', 'soutenance', 'negocier', 'eleve', 'l', 'maximale', 'mes', 'master', 'ne', 'veux', 'des', 'qualite', 'durs', 'connaitre', 'est', 'a', 'perso', 'gens', 'etudiant', 'plus', 'inscription', 'm1', 'la', 'trouver', 'peu', 'bot', 'temps', 'places', 'indecise', 'appelles', 'combien', 'options', 'bio', 'peut-on', 'pourriez-vous', 'contenu', 'peur', 'formation', 'recherche', 'sur', 'souhaite', 'consiste', 'concernent', 'poser', 'science', 'durant', 'pau', 'liens', 'dans', 'comment', 'detaillee', 'rater', 'emploi', 'au', 'cools', 'infos', 'autres', 'quel', 'programmation', 'etranger', '2018', 'avons-nous', 'ects', 'contact', 'visualization', 'auriez-vous', 'particulier', 'duree', 'unites', 'grenoble', 'robot', 'plusieurs', 'scolarite', 'pardon', 'samedis', 'interesse', 'il', 'oriente', 'utilises', 'titulaire', 'est-tu', 'maquette', 'lettre', 'professoral', 'minimale', 'reussir', 'inscriptions', 'mathematiques', 'deux', 'enseignes', 'm', 'c', 'encore', 'an', 'matheux', 'tout', 'quelles', 'python', 'sont', 'synergies', 'langages', 'proposees', 'forme', 'big', 'passees', 'reputation', 'compris', 'genre', 'va', 'stage', 'pourcentage', 'par', 'rentree', 'avez-vous', 'aide', 'graphes', 'contacte', 'remunere', 'mieux', 'y', 'quels', 'chaque', 'peut', 'data', 'professionnel', 'voudrais', 'apres', 'renseignements', 'est-il', 'les', 'mon', 'j', 'paye', 'renseignement', 'aime', 'debouche', 'etrangers', 'super', 'entreprise', 'apprendre', 'hesite', 'aider', 'informatique', 'artificielle', 'le', 'parcours', 'these', 'monsieur', 'appelle', 'aimerais', 'postuler', 'chimie', 'laboratoire', 'difficile', '1', 'informations', 'apprentissages', 'es', 'intelligence', 'difference', 'facile', 'monde', 'atouts', 'on', 'reconnu', 'faire', 'candidater', 'seul', 'perdu', 'metiers', 'utiliser', 'rapport', 'quand', 'cours-ils', 'ce', 'suivre', 'pfe', 'ma', 'question'}\n"
     ]
    }
   ],
   "source": [
    "print(set(input_lang.word2index))"
   ]
  },
  {
   "cell_type": "code",
   "execution_count": 13,
   "metadata": {},
   "outputs": [
    {
     "name": "stdout",
     "output_type": "stream",
     "text": [
      "{'avoir', 'machine', 'statistiques', 'rendre', 'niveau', 'math', 'font', '2', 'tp', 'je', 'aux', 'devrez', 'facilites', 'pouvez', 'debut', '550', 'avis', 'page', 'compose', 'd', 'questions', 'profil', 'janvier', '20', 'certaines', 'pas', 'regarder', 'assidument', 'mais', 'fait', 'cents', 'doit', 'site', 'eu', 'fur', 'vous', 'indifferencie', 'environ', 'avec', 'votre', 'chercheurs', 'agit', 'savoir', 'connaissances', 'scientist', 'enseignants', 'nomchatbot', 'une', 'certains', 'puis-je', 'etudiants', 'entre', 'qui', 'merci', 'ecl', 'environs', 'rude', 'ceux', 'mensuels', 'bonjour', 'sachez', 'suis', 'notre', 'mining', 'leur', 'vaut', 'ue', 'proposes', 'hors', 'pedagogie', 'learning', 'suffisament', 'finir', 'obligatoirement', 'projets', 'projet', 'scala', 'cours', 'cela', 'ont', '?', 'ai', 'difficultes', 'du', 'et', 'probleme', 'polytech', 'navre', 'pile', 'bien', 'ouvre', 'socle', 'encadre', 'trois', 'nombreuses', 'academique', 'dix', 'reponse', 'acquerir', 'oui', 'n', 'de', 'forte', 'que', 'serez', 's', 'sciences', 'possible', 'cinq', 'devient', 'point', 'doivent', 'ou', 'etre', 'prerequis', 'metier', 'principe', 'consacrer', 'conseillees', 'm2', 'perfectionner', 'pouvez-vous', 'fin', 'lyonnais', 'besoin', 'renseigner', 'calendrier', 'contacter', 'service', '5', 'cordialement', 'quoi', 'rien', 'enseignements', 'un', 'vacances', 'tirez', 'pour', 'commencer', 'en', 'voir', 'enseignement', 'etudes', 'anglais', 'vingt', 'avant', 'cette', 'essayer', 'garde', 'refaire', '30', 'six', 'faut', '4', 'plupart', 'durer', 'travailler', 'se', 'l', 'maximale', 'master', 'ne', 'sitecontacts', 'volontiers', 'des', 'est', 'a', 'transmises', 'inscription', 'm1', 'volontier', 'la', 'trouver', 'rapports', 'peu', 'bot', 'temps', 'adapter', 'places', 'sauf', 'liris', 'titulaires', 'principalement', 'piece', 'offres', 'options', 'preferable', 'contenu', 'concernent', 'sur', 'permettent', 'poser', 'ecandidat', 'mention', 'septembre', 'dans', 'motivation', 'durant', 'comment', 'r', 'au', 'oublie', '10', 'redoublant', 'requete', 'differentes', '6', 'quel', 'moi', 'partir', 'suivant', 'obligatoire', 'aurez', 'milieu', '2018', 'appliquees', 'ects', 'posez', 'duree', 'pratiquement', 'francais', 'scolarite', 'plusieurs', 'robot', 'possede', 'pardon', 'ds', 'il', 'disponibles', 'selection', 'binome', 'bu', 'seront', '100%', 'prennez', 'excusez', 'devront', 'envoyee', 'prends', 'minimale', 'forum', 'venez', 'inscriptions', 'experience', 'embauches', 'synergie', 'mois', 'mathematiques', 'vos', 'deux', 'devez', 'propres', 'vers', 'mars', 'm', 'essentiellement', 'c', 'an', 'tout', 'seules', 'python', 'aout', 'sont', 'utiliserez', 'effectivement', 'langages', 'pourrez', 'big', 'reputation', 'faites-vous', 'stage', 'ses', 'par', 'desirez', 'rentree', 'graphes', 'remunere', 'mieux', 'y', 'chaque', 'peut', 'data', 'toujours', 'professionnel', 'bon', 'ouverte', 'cas', 'consulter', 'referez', 'fondee', 'apres', 'mesure', 'sas', 'les', 'techniques', 'remise', 'sa', 'realiser', 'j', 'paye', 'accueil', 'entreprise', 'etrangers', 'tps', 'aider', 'informatique', 'note', 'absolument', 'le', 'jointe', 'parcours', 'appelle', 'web', 'plutot', 'meme', 'etude', 'face', 'chacun', 'postuler', 'taux', 'seule', '1', 'retours', 'choix', 'monde', 'necessaire', 'mini-projets', 'malheureusement', 'faire', 'euros', 'seul', 'soutenances', 'reformuler', 'non', 'ce', 'devriez', 'question'}\n"
     ]
    }
   ],
   "source": [
    "print(set(output_lang.word2index))"
   ]
  },
  {
   "cell_type": "code",
   "execution_count": 14,
   "metadata": {},
   "outputs": [
    {
     "data": {
      "text/plain": [
       "[['quels sont les parcours ?',\n",
       "  'le m2 ouvre en informatique et mathematiques appliquees'],\n",
       " ['c est un m2 ou un m1 ?', 'c est un m2'],\n",
       " ['quels mentions ?', 'mention informatique ou mathematiques'],\n",
       " ['je souhaite m inscrire', 'les inscriptions 2018 se font sur ecandidat'],\n",
       " ['je veux m inscrire', 'les inscriptions 2018 se font sur ecandidat'],\n",
       " ['je souhaite postuler', 'les inscriptions 2018 se font sur ecandidat'],\n",
       " ['je souhaite postuler au master en 2018',\n",
       "  'les inscriptions se font sur ecandidat'],\n",
       " ['quels apprentissages ?',\n",
       "  'acquerir un socle de connaissances techniques en machine learning'],\n",
       " ['quels cours ?',\n",
       "  'acquerir un socle de connaissances techniques en machine learning'],\n",
       " ['les atouts de ce parcours ?',\n",
       "  'une pedagogie fondee sur de nombreuses etudes de cas'],\n",
       " ['quels atouts ?', 'une pedagogie fondee sur des retours d experience'],\n",
       " ['quelle pedagogie ?',\n",
       "  'une pedagogie fondee sur de nombreuses etudes de cas'],\n",
       " ['quel est le corps professoral ?', 'il est compose de chercheurs du liris '],\n",
       " ['quelles synergies ?',\n",
       "  'forte synergie entre milieu academique et monde professionnel'],\n",
       " ['des liens avec le monde professionnel ?',\n",
       "  'forte synergie entre milieu academique et monde professionnel'],\n",
       " ['dans quelle langue ?', 'en francais certains cours sont en anglais'],\n",
       " ['doctorat ?', 'oui c est possible apres le master'],\n",
       " ['these ?', 'oui c est possible apres le master'],\n",
       " ['quelle date de rentree ?', 'la rentree est le 5 septembre'],\n",
       " ['quand ?', 'c est le 5 septembre'],\n",
       " ['la date de rentree ?', 'le 5 septembre'],\n",
       " ['c est quand la rentree ?', 'le 5 septembre'],\n",
       " ['combien de places ?', 'il y a 20 places en tout'],\n",
       " ['quels sont les prerequis ?', 'les mathematiques et les statistiques'],\n",
       " ['si je suis etranger ?', 'il y a 10 places pour les etudiants etrangers'],\n",
       " ['si je viens de nantes ?', 'il y a 5 places'],\n",
       " ['si je viens de lyon ?', 'il y a 20 places'],\n",
       " ['si je viens de paris ?', 'il y a 5 places'],\n",
       " ['si je viens de marseille ?', 'il y a 5 places'],\n",
       " ['quelle date ?', 'c est le cinq septembre'],\n",
       " ['quand ?', 'le cinq septembre'],\n",
       " ['combien de places ?', 'il y a 20 places en tout'],\n",
       " ['il faut des prerequis ?', 'en mathematiques et statistiques oui'],\n",
       " ['comment faire si je suis etranger ?',\n",
       "  'il y a dix places aux etudiants hors ue'],\n",
       " ['si je n ai pas fait mon m1 a lyon 1 ?',\n",
       "  '5 places pour ceux qui ont un m1 francais'],\n",
       " ['si je viens de lyon ?', 'il y a vingt places pour les lyonnais'],\n",
       " ['si je viens de paris ?',\n",
       "  'cinq places pour les titulaires d un master francais'],\n",
       " ['si je viens de marseille ?', 'il y a 5 places'],\n",
       " ['quelle date est la rentree ?', 'la rentree est le 5 septembre 2018'],\n",
       " ['quand est-ce ?', 'le cinq septembre'],\n",
       " ['combien de places ?', 'il y a 20 places en tout'],\n",
       " ['y a-t-il des prerequis necessaires?',\n",
       "  'oui en mathematiques et statistiques'],\n",
       " ['si je suis etranger ?', 'il y a 10 places pour les etudiants etrangers'],\n",
       " ['si je viens de nantes ?',\n",
       "  'cinq places pour les titulaires d un master francais'],\n",
       " ['si je viens de lyon ?', 'il y a 20 places'],\n",
       " ['si je viens de pau ?',\n",
       "  'cinq places pour les titulaires d un master francais'],\n",
       " ['si je viens de marseille ?', '5 places pour ceux qui ont un m1 francais'],\n",
       " ['quelle date ?', 'le cinq septembre'],\n",
       " ['c est quand la rentree ?', 'le 5 septembre'],\n",
       " ['combien de places ?', 'il y a 20 places en tout'],\n",
       " ['quels sont les connaissances demandees ?', 'mathematiques et statistiques'],\n",
       " ['si je suis etranger ?', 'il y a 10 places pour les etudiants etrangers'],\n",
       " ['si je viens de nantes ?',\n",
       "  '5 places pour les titulaires d un master francais'],\n",
       " ['si je viens de lyon ?', 'il y a 20 places pour vous'],\n",
       " ['si je viens de reims ?',\n",
       "  'cinq places pour les titulaires d un master francais'],\n",
       " ['si je viens de marseille ?', '5 places pour ceux qui ont un m1 francais'],\n",
       " ['a quelle date ?', 'le 5 septembre 2018'],\n",
       " ['quand ?', 'c est le 5 septembre 2018'],\n",
       " ['combien de places en tout ?', 'il y a 20 places en tout'],\n",
       " ['quels prerequis ?', 'mathematiques et statistiques'],\n",
       " ['et pour les etrangers ?', 'il y a 10 places pour les etudiants etrangers'],\n",
       " ['si je viens de angers ?',\n",
       "  '5 places pour les titulaires d un master francais'],\n",
       " ['si je viens de paris ?',\n",
       "  '5 places pour les titulaires d un master francais'],\n",
       " ['si je viens de grenoble ?', '5 places pour ceux qui ont un m1 francais'],\n",
       " ['le master forme a quel metier ?', 'au metier de data scientist'],\n",
       " ['le master forme a quels metiers ?', 'au metier de data scientist'],\n",
       " ['le master prepare a quel emploi ?', 'au metier de data scientist'],\n",
       " ['le master prepare a quel metier ?', 'au metier de data scientist'],\n",
       " ['quels sont les debouches ?', 'les data sciences'],\n",
       " ['cela debouche sur quoi ?', 'au metier de data scientist'],\n",
       " ['quel metier apres ?', 'le metier de data scientist'],\n",
       " ['c est un formation de qualite', 'merci'],\n",
       " ['c est un super master', 'merci'],\n",
       " ['c est un master reconnu', 'oui il le devient'],\n",
       " ['je suis interesse', 'merci j en prends note'],\n",
       " ['j aimerais faire votre master', 'merci j en prends note'],\n",
       " ['je veux faire ce master', 'merci j en prends note'],\n",
       " ['votre master m interesse', 'merci j en prends note'],\n",
       " ['cordialement', 'cordialement'],\n",
       " ['salutations', 'cordialement'],\n",
       " ['bonjour', 'bonjour'],\n",
       " ['bonjour monsieur', 'bonjour'],\n",
       " ['bonjour professeur', 'bonjour'],\n",
       " ['merci monsieur', 'de rien'],\n",
       " ['merci bien', 'de rien'],\n",
       " ['merci de votre aide', 'de rien'],\n",
       " ['merci pour les renseignements', 'de rien'],\n",
       " ['c est gentil', 'merci'],\n",
       " ['pourriez-vous me renseigner', 'oui volontiers quel est votre profil ?'],\n",
       " ['j ai besoin d aide', 'oui volontiers quel est votre profil ?'],\n",
       " ['j ai une question', 'oui posez votre question'],\n",
       " ['j ai des questions', 'oui posez vos questions'],\n",
       " ['c est possible de s inscrire ?', 'oui d ou venez vous ?'],\n",
       " ['mes salutations', 'bonjour'],\n",
       " ['il y a un stage a faire ?', 'oui de six mois a partir de mars'],\n",
       " ['il faut faire un stage ?', 'oui de six mois a partir de mars'],\n",
       " ['la duree du stage ?', 'six mois'],\n",
       " ['le stage dure combien de temps ?', 'six mois'],\n",
       " ['il faut etre titulaire d un master en informatique ?',\n",
       "  'oui c est preferable'],\n",
       " ['j ai un master un en bio informatique',\n",
       "  'il faut refaire un master un en informatique'],\n",
       " ['j ai un master un en mathematiques', 'il faut postuler au master ds math'],\n",
       " ['j ai un master un en chimie',\n",
       "  'il faut refaire un master un en informatique'],\n",
       " ['j ai fait master un en bio informatique',\n",
       "  'il faut refaire un master un en informatique'],\n",
       " ['j ai fait master un en mathematiques',\n",
       "  'il faut postuler au master ds math'],\n",
       " ['j ai un master un en physique',\n",
       "  'il faut refaire un master un en informatique'],\n",
       " ['quel est le contenu de la formation ?',\n",
       "  'il faut regarder sur notre site web'],\n",
       " ['quels sont les cours dispenses ?', 'il faut regarder sur notre site web'],\n",
       " ['quels sont les cours donnes ?', 'il faut regarder sur notre site web'],\n",
       " ['quels sont les cours enseignes ?', 'il faut regarder sur notre site web'],\n",
       " ['quels sont les cours ?', 'il faut regarder sur notre site web'],\n",
       " ['quelles sont les unites d enseignement ?',\n",
       "  'il faut regarder sur notre site web'],\n",
       " ['il y a des cours de graphes ?', 'oui'],\n",
       " ['il y a des cours de data visualization ?', 'oui'],\n",
       " ['il y a des cours de big data ?', 'oui il y a un cours en big data'],\n",
       " ['il y a des cours de python ?', 'oui il y a des tps de python'],\n",
       " ['il y a des cours de data mining ?', 'oui il y a un cours de data mining'],\n",
       " ['il y a des cours de graphes ?', 'oui il y a un cours de graphes'],\n",
       " ['il y a des cours de machine learning ?',\n",
       "  'oui il y a 2 cours de machine learning'],\n",
       " ['il y a des rappels de mathematiques ?',\n",
       "  'oui pour les etudiants de ds informatique'],\n",
       " ['il y a des rappels d informatique ?', 'oui pour les etudiants de ds math'],\n",
       " ['quels langages de programmation ?', 'python essentiellement'],\n",
       " ['il y a des cours de graphes ?', 'oui'],\n",
       " ['il y a de la data visualization ?', 'oui'],\n",
       " ['il y a du big data ?', 'oui'],\n",
       " ['il y a du python ?', 'oui'],\n",
       " ['y a-t-il du data mining ?', 'oui'],\n",
       " ['il y a des cours de graphes ?', 'oui'],\n",
       " ['il y a des cours de machine learning ?',\n",
       "  'oui il y a 2 cours de machine learning'],\n",
       " ['il y a des rappels de mathematiques ?',\n",
       "  'oui pour les etudiants de ds informatique'],\n",
       " ['il y a des rappels d informatique ?', 'oui pour les etudiants de ds math'],\n",
       " ['combien d ects par cours ?', 'trois ects'],\n",
       " ['il y a combien de candidats ?',\n",
       "  'deux cents environs la selection est rude'],\n",
       " ['il y a beaucoup de candidats chaque annee ?',\n",
       "  'deux cents environs la selection est rude'],\n",
       " ['le niveau est-il eleve ?', 'le niveau est plutot bon oui '],\n",
       " ['quel est le niveau ?', 'le niveau est plutot bon'],\n",
       " ['les cours sont durs ?', 'non mais il faut travailler assidument'],\n",
       " ['le master est-il difficile a suivre ?',\n",
       "  'non mais il faut travailler assidument'],\n",
       " ['les cours-ils difficile a suivre ?',\n",
       "  'non mais il faut travailler assidument'],\n",
       " ['vous pouvez m aider ?', 'oui je suis la pour vous renseigner'],\n",
       " ['j ai besoin d aide', 'je suis la pour vous renseigner'],\n",
       " ['j ai besoin d un renseignement', 'je suis la pour vous renseigner'],\n",
       " ['j ai besoin de renseignements', 'je suis la pour vous renseigner'],\n",
       " ['j ai des questions', 'je suis la pour vous aider'],\n",
       " ['le master est-il ouvert en alternance ?', 'non'],\n",
       " ['on peut le faire en alternance ?', 'non'],\n",
       " ['on peut faire ce m2 en alternance ?', 'non'],\n",
       " ['il est possible de faire ce m2 en alternance ?', 'non'],\n",
       " ['comment faire pour s inscrire ?', 'il faut contacter la scolarite'],\n",
       " ['et pour s inscrire je fais comment ?', 'il faut contacter la scolarite'],\n",
       " ['est-il encore possible de s inscrire ?', 'il faut contacter la scolarite'],\n",
       " ['je voudrais m inscrire', '', 'il faut contacter la scolarite'],\n",
       " ['et pour les inscriptions on fait comment ?',\n",
       "  'il faut contacter la scolarite'],\n",
       " ['est-il encore possible de s inscrire ?', 'il faut consulter le calendrier'],\n",
       " ['puis-je encore m inscrire ?', 'il faut consulter le calendrier'],\n",
       " ['je peux encore m inscrire ?', 'il faut consulter le calendrier'],\n",
       " ['c est un master en 2 ans ?', 'non c est un m2 d un an '],\n",
       " ['est-ce un master en deux ans ?', 'non c est un m2 d un an '],\n",
       " ['le master dure 2 ans ?', 'non c est un m2 d un an '],\n",
       " ['c est un master en 1 an ?', 'oui c est un m2 d un an '],\n",
       " ['est-ce un master en un an ?', 'oui c est un m2 d un an '],\n",
       " ['le master dure un an ?', 'oui c est un m2 d un an'],\n",
       " ['y a t-il eu des redoublants les annees passees ?', 'non un seul'],\n",
       " ['est-ce un master oriente recherche ou entreprise ?',\n",
       "  'il s agit d un m2 indifferencie'],\n",
       " ['avez-vous une maquette detaillee de ce master ?',\n",
       "  'oui je vous l ai envoyee en piece jointe'],\n",
       " ['ou puis-je trouver le detail des ues proposees ?',\n",
       "  'sur le site du master '],\n",
       " ['est-ce un master pro ou recherche ?', 'il s agit d un m2 indifferencie'],\n",
       " ['auriez-vous une maquette de ce master ?',\n",
       "  'oui je vous l ai envoyee en piece jointe'],\n",
       " ['peut-on faire un stage en entreprise ?', 'oui'],\n",
       " ['je viens de strasbourg', 'il y a cinq places disponibles dans ce master '],\n",
       " ['aurais-je des vacances ?',\n",
       "  'les vacances ne doivent pas etre votre motivation '],\n",
       " ['quel est la reputation du master ?',\n",
       "  'c est a vous de faire sa reputation '],\n",
       " ['quel est le pourcentage d embauche en fin d etudes ?',\n",
       "  'en data sciences 100% '],\n",
       " ['comment sont les enseignants ?', 'a vous de vous faire votre avis '],\n",
       " ['je suis indecis', 'tirez a pile ou face '],\n",
       " ['je suis indecise', 'tirez a pile ou face '],\n",
       " ['quel est le temps a lyon ?', 'plutot bon '],\n",
       " ['les gens sont-ils cools a lyon ?', 'a vous de vous faire votre avis '],\n",
       " ['les gens sont-ils sympa a lyon ?', 'a vous de vous faire votre avis '],\n",
       " ['j ai peur de ne pas reussir', 'c est toujours mieux que ne rien faire '],\n",
       " ['j ai peur de rater', 'c est toujours mieux que ne rien faire '],\n",
       " ['combien d etudiants ont rate l an dernier ?', 'un seul '],\n",
       " ['j hesite avec le master intelligence artificielle',\n",
       "  'il faut effectivement faire un choix '],\n",
       " ['peut-on suivre deux cursus en parallele',\n",
       "  'non sauf les etudiants de l ecl '],\n",
       " ['j aime la data science', 'c est un bon point '],\n",
       " ['je n aime pas la data science', 'que faites-vous sur ce forum ?'],\n",
       " ['avons-nous cours les samedis ?',\n",
       "  'non mais vous pourrez travailler a la bu'],\n",
       " ['avons-nous cours le week-end ?', 'non mais la bu est ouverte'],\n",
       " ['puis-je avoir le contact d un ancien eleve ?', 'oui bien sur'],\n",
       " ['peut-on faire le master en alternance ?', 'non'],\n",
       " ['je n ai pas compris', 'j ai oublie votre question pardon'],\n",
       " ['pardon ?', 'j ai oublie votre question pardon'],\n",
       " ['qui sont les enseignants du master ?', 'des chercheurs du liris'],\n",
       " ['en quoi consiste le master ?', '6 mois de cours et 5 mois de stage'],\n",
       " ['salut', 'bonjour'],\n",
       " ['pourquoi il y a plusieurs parcours ?',\n",
       "  'les deux parcours proposes permettent d adapter l enseignement aux etudiants suivant leur profil'],\n",
       " ['quelle est la difference entre le parcours info et math ?',\n",
       "  'le contenu est le meme seules les ue de remise a niveau sont differentes'],\n",
       " ['et on peut candidater aux deux parcours ?',\n",
       "  'en principe oui mais sachez que chaque parcours possede ses propres prerequis'],\n",
       " ['mes salutations', 'bonjour'],\n",
       " ['et est-ce qu on peut s inscrire aux deux parcours ?',\n",
       "  'en principe oui mais sachez que chaque parcours possede ses propres prerequis'],\n",
       " ['je n ai pas de lettre de recommendation', 'ce n est pas un probleme'],\n",
       " ['est-ce qu il y a des options a suivre ?',\n",
       "  'certaines options du master 1 informatique sont conseillees referez vous a la page web'],\n",
       " ['il y a une difference entre le parcours info et math ?',\n",
       "  'le contenu est le meme seules les ue de remise a niveau sont differentes'],\n",
       " ['l vaut mieux faire le parcours informatique ou mathematiques ?',\n",
       "  'le contenu est le meme seules les ue de remise a niveau sont differentes'],\n",
       " ['il y a des projets a rendre ?', 'oui plusieurs projets sont a rendre'],\n",
       " ['faut-il faire un pfe ?',\n",
       "  'oui vous devez realiser plusieurs projets en binome'],\n",
       " ['j aimerais savoir si il y a des projets durant l annee ?',\n",
       "  'oui vous devrez realiser plusieurs projets de fin d etude'],\n",
       " ['le projet est-il encadre par des chercheurs du laboratoire ?',\n",
       "  'oui vous serez encadre par les enseignants chercheurs'],\n",
       " ['on doit faire un projet de fin d etudes ?',\n",
       "  'plusieurs projets de fin d etudes seront a rendre'],\n",
       " ['combien de projets il y a ?',\n",
       "  'il y a un projet a faire dans la plupart des ue'],\n",
       " ['combien de projets sont a rendre ?',\n",
       "  'il y a un projet a faire dans la plupart des ue'],\n",
       " ['il y a qu un seul projet ?', 'non plusieurs projets sont a rendre'],\n",
       " ['il y a plusieurs projets a rendre ?', 'oui tout a fait'],\n",
       " ['quels types de projets sont a faire ?',\n",
       "  'ce sont des mini-projets a rendre dans pratiquement chaque ue'],\n",
       " ['quel genre de projets sont a rendre ?',\n",
       "  'ce sont des mini-projets a rendre dans pratiquement chaque ue'],\n",
       " ['est-ce que les projets sont transversaux entre ue ?',\n",
       "  'non les projets concernent chacun une seule ue'],\n",
       " ['est-ce que les projets concernent plusieurs ue ?',\n",
       "  'non les projets concernent chacun une seule ue'],\n",
       " ['est-ce que c est un gros projet a rendre ?',\n",
       "  'non ce sont plusieurs mini-projets a rendre'],\n",
       " ['il faut faire un seul gros projet ?',\n",
       "  'non ce sont plusieurs mini-projets a rendre'],\n",
       " ['on peut developper un projet perso ?',\n",
       "  'bien sur mais prennez garde a consacrer suffisament de temps aux enseignements'],\n",
       " ['pourriez-vous me renseigner', 'oui volontier que desirez vous savoir ?'],\n",
       " ['j ai besoin d aide', 'en quoi puis-je vous aider ?'],\n",
       " ['j ai une question', 'je suis la pour vous aider'],\n",
       " ['vous pouvez m aider ?', 'oui volontier que desirez vous savoir ?'],\n",
       " ['j ai besoin d un renseignement', 'je suis la pour vous renseigner'],\n",
       " ['j ai besoin de renseignements', 'je suis la pour vous renseigner'],\n",
       " ['j ai des questions', 'je suis la pour vous aider'],\n",
       " ['j aurais une question', 'je suis la pour vous aider'],\n",
       " ['je peux vous poser une question ?',\n",
       "  'oui volontier que desirez vous savoir ?'],\n",
       " ['je recherche des informations', 'je suis la pour vous aider'],\n",
       " ['je suis un peu perdu', 'comment puis-je vous aider ?'],\n",
       " ['il y a un stage a faire ?', 'oui il y a un stage a faire'],\n",
       " ['il faut faire un stage ?', 'oui il y a un stage a faire'],\n",
       " ['la duree du stage ?', 'le stage doit avoir une duree de 4 a 6 mois'],\n",
       " ['le stage dure combien de temps ?',\n",
       "  'le stage doit avoir une duree de 4 a 6 mois'],\n",
       " ['combien de temps dure le stage ?', 'le stage doit durer entre 4 et 6 mois'],\n",
       " ['quelle est la date de fin du stage ?',\n",
       "  'le stage doit finir absolument avant le 30 septembre'],\n",
       " ['quelle est la date de debut de stage ?',\n",
       "  'le stage ne peut commencer avant le mois de janvier'],\n",
       " ['le stage est-il remunere ?', 'oui le stage est obligatoirement remunere'],\n",
       " ['est-ce que le stage est paye ?',\n",
       "  'oui le stage est obligatoirement remunere'],\n",
       " ['est-ce qu on est paye pendant le stage ?',\n",
       "  'oui le stage est obligatoirement remunere'],\n",
       " ['combien on est paye pendant le stage ?',\n",
       "  'la paye minimale durant le stage est de 550 euros mensuels environ'],\n",
       " ['quelle est la paye minimale pendant le stage ?',\n",
       "  'la paye minimale durant le stage est de 550 euros mensuels environ'],\n",
       " ['quelle est la paye maximale pendant le stage ?',\n",
       "  'il n y a pas de paye maximale'],\n",
       " ['a combien s eleve la gratification durant le stage ?',\n",
       "  'la paye minimale durant le stage est de 550 euros mensuels environ'],\n",
       " ['quel est le salaire durant le stage ?',\n",
       "  'la paye minimale durant le stage est de 550 euros mensuels environ'],\n",
       " ['est-ce qu on peut negocier la remuneration du stage ?',\n",
       "  'il faut voir cela avec l entreprise d accueil'],\n",
       " ['est-ce qu il faut trouver un stage avant de faire l inscription ?',\n",
       "  'il n est pas necessaire de trouver un stage avant l inscription'],\n",
       " ['comment trouver un stage ?',\n",
       "  'des offres de stage seront transmises aux etudiants au fur et a mesure'],\n",
       " ['ou trouver un stage ?',\n",
       "  'des offres de stage seront transmises aux etudiants au fur et a mesure'],\n",
       " ['quand est la soutenance de stage ?',\n",
       "  'le soutenances de stage se font debut septembre'],\n",
       " ['quand faut-il rendre le rapport de stage ?',\n",
       "  'les rapports de stage sont a rendre vers la fin aout'],\n",
       " ['comment je contacte le responsable du master ?',\n",
       "  'il faut se renseigner sur la page sitecontacts'],\n",
       " ['comment je contacte la scolarite ?',\n",
       "  'il faut se renseigner sur la page sitecontacts'],\n",
       " ['comment pourrais-je contacter la scolarite ?',\n",
       "  'il faut se renseigner sur la page sitecontacts'],\n",
       " ['ou puis-je retirer ma carte etudiant ?',\n",
       "  'vous devriez poser la question au service de scolarite'],\n",
       " ['ou je peux faire refaire ma carte etudiant ?',\n",
       "  'vous devriez poser la question au service de scolarite'],\n",
       " ['est-tu un bot ?', 'effectivement je suis un bot'],\n",
       " ['tu es un robot ?', 'effectivement je suis un robot'],\n",
       " ['quel est ton nom ?', 'je m appelle nomchatbot'],\n",
       " ['comment tu t appelle ?', 'je m appelle nomchatbot'],\n",
       " ['tu t appelles comment ?', 'je m appelle nomchatbot'],\n",
       " ['tu as un nom ?', 'oui je m appelle nomchatbot'],\n",
       " ['qui est ton createur ?', 'navre je n ai pas la reponse a cette question'],\n",
       " ['c est un formation de qualite', 'merci'],\n",
       " ['c est un super master', 'merci'],\n",
       " ['c est un master reconnu', 'oui il le devient'],\n",
       " ['je n ai pas compris', 'excusez moi pouvez-vous reformuler votre requete ?'],\n",
       " ['je n ai pas compris la reponse',\n",
       "  'excusez moi pouvez-vous reformuler votre requete ?'],\n",
       " ['on est oblige de passer par e-candidat ?', 'oui c est obligatoire'],\n",
       " ['il faut connaitre quel langage ?',\n",
       "  'vous aurez principalement besoin des langages python r et scala'],\n",
       " ['quels sont les langages qu on va utiliser ?',\n",
       "  'vous utiliserez principalement les langages python r et scala'],\n",
       " ['il y a d autres langages que du python ?',\n",
       "  'certains tp devront etre fait en r en scala ou en sas'],\n",
       " ['il faut apprendre un langage en particulier ?',\n",
       "  'non mais vous pouvez essayer de vous perfectionner en python r ou scala'],\n",
       " ['quels sont les langages de programmation utilises ?',\n",
       "  'vous utiliserez principalement les langages python r et scala'],\n",
       " ['combien y a-t-il d ects par cours ?', 'chaque cours vaut trois ects'],\n",
       " ['y a-t-il eu des redoublants les annees passees ?',\n",
       "  'il y a eu un seul redoublant'],\n",
       " ['aurais-je des vacances ?', 'vous aurez malheureusement peu de vacances'],\n",
       " ['c est plus facile pour les matheux ou les infos ?',\n",
       "  'chacun a ses facilites et ses difficultes'],\n",
       " ['quel est la reputation du master ?', 'c est a vous de faire sa reputation'],\n",
       " ['quel est le pourcentage d embauche en fin d etudes ?',\n",
       "  'en data sciences le taux d embauches est de 100%'],\n",
       " ['comment sont les enseignants ?', 'a vous de vous faire votre avis '],\n",
       " ['combien d etudiants ont rate l an dernier ?', 'un seul'],\n",
       " ['peut-on suivre deux cursus en parallele ?',\n",
       "  'non sauf les etudiants de l ecl et polytech']]"
      ]
     },
     "execution_count": 14,
     "metadata": {},
     "output_type": "execute_result"
    }
   ],
   "source": [
    "pairs"
   ]
  },
  {
   "cell_type": "markdown",
   "metadata": {},
   "source": [
    "The Seq2Seq Model\n",
    "=================\n",
    "\n",
    "A Recurrent Neural Network, or RNN, is a network that operates on a\n",
    "sequence and uses its own output as input for subsequent steps.\n",
    "\n",
    "A `Sequence to Sequence network <http://arxiv.org/abs/1409.3215>`__, or\n",
    "seq2seq network, or `Encoder Decoder\n",
    "network <https://arxiv.org/pdf/1406.1078v3.pdf>`__, is a model\n",
    "consisting of two RNNs called the encoder and decoder. The encoder reads\n",
    "an input sequence and outputs a single vector, and the decoder reads\n",
    "that vector to produce an output sequence.\n",
    "\n",
    "Unlike sequence prediction with a single RNN, where every input\n",
    "corresponds to an output, the seq2seq model frees us from sequence\n",
    "length and order, which makes it ideal for dialogue systems.\n",
    "\n",
    "With a seq2seq model the encoder creates a single vector which, in the\n",
    "ideal case, encodes the \"meaning\" of the input sequence into a single\n",
    "vector — a single point in some N dimensional space of sentences.\n",
    "\n",
    "\n"
   ]
  },
  {
   "cell_type": "markdown",
   "metadata": {},
   "source": [
    "The Encoder\n",
    "-----------\n",
    "\n",
    "The encoder of a seq2seq network is a RNN that outputs some value for\n",
    "every word from the input sentence. For every input word the encoder\n",
    "outputs a vector and a hidden state, and uses the hidden state for the\n",
    "next input word.\n"
   ]
  },
  {
   "cell_type": "code",
   "execution_count": 15,
   "metadata": {},
   "outputs": [],
   "source": [
    "class EncoderRNN(nn.Module):\n",
    "    def __init__(self, input_size, hidden_size, n_layers=1):\n",
    "        super(EncoderRNN, self).__init__()\n",
    "        self.n_layers = n_layers\n",
    "        self.hidden_size = hidden_size\n",
    "\n",
    "        self.embedding = nn.Embedding(input_size, hidden_size)\n",
    "        self.gru = nn.GRU(hidden_size, hidden_size)\n",
    "\n",
    "    def forward(self, input, hidden):\n",
    "        embedded = self.embedding(input).view(1, 1, -1)\n",
    "        output = embedded\n",
    "        for i in range(self.n_layers):\n",
    "            output, hidden = self.gru(output, hidden)\n",
    "        return output, hidden\n",
    "\n",
    "    def initHidden(self):\n",
    "        result = Variable(torch.zeros(1, 1, self.hidden_size))\n",
    "        return result"
   ]
  },
  {
   "cell_type": "markdown",
   "metadata": {},
   "source": [
    "A standard RNN Decoder\n",
    "-----------\n",
    "\n",
    "The decoder is another RNN that takes the encoder output vector(s) and\n",
    "outputs a sequence of words to produce the answer.\n",
    "\n",
    "\n"
   ]
  },
  {
   "cell_type": "markdown",
   "metadata": {},
   "source": [
    "**Simple Decoder**\n",
    "\n",
    "In the simplest seq2seq decoder we use only last output of the encoder.\n",
    "This last output is sometimes called the *context vector* as it encodes\n",
    "context from the entire sequence. This context vector is used as the\n",
    "initial hidden state of the decoder.\n",
    "\n",
    "At every step of decoding, the decoder is given an input token and\n",
    "hidden state. The initial input token is the start-of-string ``<SOS>``\n",
    "token, and the first hidden state is the context vector (the encoder's\n",
    "last hidden state).\n",
    "\n"
   ]
  },
  {
   "cell_type": "code",
   "execution_count": 16,
   "metadata": {},
   "outputs": [],
   "source": [
    "class DecoderRNN(nn.Module):\n",
    "    def __init__(self, hidden_size, output_size, n_layers=1):\n",
    "        super(DecoderRNN, self).__init__()\n",
    "        self.n_layers = n_layers\n",
    "        self.hidden_size = hidden_size\n",
    "\n",
    "        self.embedding = nn.Embedding(output_size, hidden_size)\n",
    "        self.gru = nn.GRU(hidden_size, hidden_size)\n",
    "        self.out = nn.Linear(hidden_size, output_size)\n",
    "        self.softmax = nn.LogSoftmax(dim=1)\n",
    "\n",
    "    def forward(self, input, hidden):\n",
    "        output = self.embedding(input).view(1, 1, -1)\n",
    "        for i in range(self.n_layers):\n",
    "            output = F.relu(output)\n",
    "            output, hidden = self.gru(output, hidden)\n",
    "        output = self.softmax(self.out(output[0]),dim=1)\n",
    "        return output, hidden\n",
    "\n",
    "    def initHidden(self):\n",
    "        result = Variable(torch.zeros(1, 1, self.hidden_size))\n",
    "        return result"
   ]
  },
  {
   "cell_type": "markdown",
   "metadata": {},
   "source": [
    "# Attention Decoder\n",
    "\n",
    "\n",
    "If only the context vector is passed betweeen the encoder and decoder,\n",
    "that single vector carries the burden of encoding the entire sentence.\n",
    "\n",
    "Attention allows the decoder network to \"focus\" on a different part of\n",
    "the encoder's outputs for every step of the decoder's own outputs. First\n",
    "we calculate a set of *attention weights*. These will be multiplied by\n",
    "the encoder output vectors to create a weighted combination. The result\n",
    "(called ``attn_applied`` in the code) should contain information about\n",
    "that specific part of the input sequence, and thus help the decoder\n",
    "choose the right output words.\n",
    "\n",
    "Calculating the attention weights is done with another feed-forward\n",
    "layer ``attn``, using the decoder's input and hidden state as inputs.\n",
    "Because there are sentences of all sizes in the training data, to\n",
    "actually create and train this layer we have to choose a maximum\n",
    "sentence length (input length, for encoder outputs) that it can apply\n",
    "to. Sentences of the maximum length will use all the attention weights,\n",
    "while shorter sentences will only use the first few.\n",
    "\n"
   ]
  },
  {
   "cell_type": "code",
   "execution_count": 17,
   "metadata": {},
   "outputs": [],
   "source": [
    "class AttnDecoderRNN(nn.Module):\n",
    "    def __init__(self, hidden_size, output_size, n_layers=1, dropout_p=0.1, max_length=MAX_LENGTH):\n",
    "        super(AttnDecoderRNN, self).__init__()\n",
    "        self.hidden_size = hidden_size\n",
    "        self.output_size = output_size\n",
    "        self.n_layers = n_layers\n",
    "        self.dropout_p = dropout_p\n",
    "        self.max_length = max_length\n",
    "\n",
    "        self.embedding = nn.Embedding(self.output_size, self.hidden_size)\n",
    "        self.attn = nn.Linear(self.hidden_size * 2, self.max_length)\n",
    "        self.attn_combine = nn.Linear(self.hidden_size * 2, self.hidden_size)\n",
    "        self.dropout = nn.Dropout(self.dropout_p)\n",
    "        self.gru = nn.GRU(self.hidden_size, self.hidden_size)\n",
    "        self.out = nn.Linear(self.hidden_size, self.output_size)\n",
    "\n",
    "    def forward(self, input, hidden, encoder_outputs):\n",
    "        embedded = self.embedding(input).view(1, 1, -1)\n",
    "        embedded = self.dropout(embedded)\n",
    "\n",
    "        attn_weights = F.softmax(\n",
    "            self.attn(torch.cat((embedded[0], hidden[0]), 1)))#, dim=1)\n",
    "        attn_applied = torch.bmm(attn_weights.unsqueeze(0),\n",
    "                                 encoder_outputs.unsqueeze(0))\n",
    "\n",
    "        output = torch.cat((embedded[0], attn_applied[0]), 1)\n",
    "        output = self.attn_combine(output).unsqueeze(0)\n",
    "\n",
    "        for i in range(self.n_layers):\n",
    "            output = F.relu(output)\n",
    "            output, hidden = self.gru(output, hidden)\n",
    "\n",
    "        output = F.log_softmax(self.out(output[0]))#, dim=1)\n",
    "        return output, hidden, attn_weights\n",
    "\n",
    "    def initHidden(self):\n",
    "        result = Variable(torch.zeros(1, 1, self.hidden_size))\n",
    "        return result"
   ]
  },
  {
   "cell_type": "markdown",
   "metadata": {},
   "source": [
    "Note: There are other forms of attention that work around the length\n",
    "  limitation by using a relative position approach. Read about \"local\n",
    "  attention\" in `Effective Approaches to Attention-based Neural Machine\n",
    "  Translation <https://arxiv.org/abs/1508.04025>`\n",
    "\n",
    "# Training\n",
    "\n",
    "\n",
    "Preparing Training Data\n",
    "-----------------------\n",
    "\n",
    "To train, for each pair we will need an input tensor (indexes of the\n",
    "words in the input sentence) and target tensor (indexes of the words in\n",
    "the target sentence). While creating these vectors we will append the\n",
    "EOS token to both sequences.\n",
    "\n",
    "\n"
   ]
  },
  {
   "cell_type": "code",
   "execution_count": 18,
   "metadata": {},
   "outputs": [],
   "source": [
    "def indexesFromSentence(lang, sentence):\n",
    "    return [lang.word2index[word] for word in sentence.split()]\n",
    "\n",
    "def variableFromSentence(lang, sentence):\n",
    "    indexes = indexesFromSentence(lang, sentence)\n",
    "    indexes.append(EOS_token)\n",
    "    result = Variable(torch.LongTensor(indexes).view(-1, 1))\n",
    "    return result\n",
    "\n",
    "def variablesFromPair(pair):\n",
    "    input_variable = variableFromSentence(input_lang, pair[0])\n",
    "    target_variable = variableFromSentence(output_lang, pair[1])\n",
    "    return (input_variable, target_variable)"
   ]
  },
  {
   "cell_type": "markdown",
   "metadata": {},
   "source": [
    "Training the Model\n",
    "------------------\n",
    "\n",
    "To train we run the input sentence through the encoder, and keep track\n",
    "of every output and the latest hidden state. Then the decoder is given\n",
    "the ``<SOS>`` token as its first input, and the last hidden state of the\n",
    "encoder as its first hidden state.\n",
    "\n",
    "\"Teacher forcing\" is the concept of using the real target outputs as\n",
    "each next input, instead of using the decoder's guess as the next input.\n",
    "Using teacher forcing causes it to converge faster but `when the trained\n",
    "network is exploited, it may exhibit\n",
    "instability <http://minds.jacobs-university.de/sites/default/files/uploads/papers/ESNTutorialRev.pdf>`.\n",
    "\n",
    "You can observe outputs of teacher-forced networks that read with\n",
    "coherent grammar but wander far from the correct answer -\n",
    "intuitively it has learned to represent the output grammar and can \"pick\n",
    "up\" the meaning once the teacher tells it the first few words, but it\n",
    "has not properly learned how to create the sentence from the answer\n",
    "in the first place.\n",
    "\n",
    "Because of the freedom PyTorch's autograd gives us, we can randomly\n",
    "choose to use teacher forcing or not with a simple if statement. Turn\n",
    "``teacher_forcing_ratio`` up to use more of it.\n",
    "\n",
    "\n"
   ]
  },
  {
   "cell_type": "code",
   "execution_count": 19,
   "metadata": {},
   "outputs": [],
   "source": [
    "teacher_forcing_ratio = 0.5\n",
    "\n",
    "def train(input_variable, target_variable, encoder, decoder, encoder_optimizer, decoder_optimizer, criterion, max_length=MAX_LENGTH):\n",
    "    encoder_hidden = encoder.initHidden()\n",
    "\n",
    "    encoder_optimizer.zero_grad()\n",
    "    decoder_optimizer.zero_grad()\n",
    "\n",
    "    input_length = input_variable.size()[0]\n",
    "    target_length = target_variable.size()[0]\n",
    "\n",
    "    encoder_outputs = Variable(torch.zeros(max_length, encoder.hidden_size))\n",
    "\n",
    "    loss = 0\n",
    "\n",
    "    for ei in range(input_length):\n",
    "        encoder_output, encoder_hidden = encoder(\n",
    "            input_variable[ei], encoder_hidden)\n",
    "        encoder_outputs[ei] = encoder_output[0][0]\n",
    "\n",
    "    decoder_input = Variable(torch.LongTensor([[SOS_token]]))\n",
    "    decoder_input = decoder_input\n",
    "\n",
    "    decoder_hidden = encoder_hidden\n",
    "\n",
    "    use_teacher_forcing = True if random.random() < teacher_forcing_ratio else False\n",
    "\n",
    "    if use_teacher_forcing:\n",
    "        # Teacher forcing: Feed the target as the next input\n",
    "        for di in range(target_length):\n",
    "            \n",
    "            decoder_output, decoder_hidden, decoder_attention = decoder(\n",
    "                decoder_input, decoder_hidden, encoder_outputs)\n",
    "            \n",
    "            #decoder_output, decoder_hidden = decoder(\n",
    "             #   decoder_input, decoder_hidden)\n",
    "            \n",
    "            loss += criterion(decoder_output, target_variable[di])\n",
    "            decoder_input = target_variable[di]  # Teacher forcing\n",
    "\n",
    "    else:\n",
    "        # Without teacher forcing: use its own predictions as the next input\n",
    "        for di in range(target_length):\n",
    "            \n",
    "            decoder_output, decoder_hidden, decoder_attention = decoder(\n",
    "                decoder_input, decoder_hidden, encoder_outputs)\n",
    "            \n",
    "            #decoder_output, decoder_hidden = decoder(\n",
    "             #   decoder_input, decoder_hidden)       \n",
    "            \n",
    "            topv, topi = decoder_output.data.topk(1)\n",
    "            ni = topi[0][0]\n",
    "\n",
    "            decoder_input = Variable(torch.LongTensor([[ni]]))\n",
    "            decoder_input = decoder_input\n",
    "\n",
    "            loss += criterion(decoder_output, target_variable[di])\n",
    "            if ni == EOS_token:\n",
    "                break\n",
    "\n",
    "    loss.backward()\n",
    "\n",
    "    encoder_optimizer.step()\n",
    "    decoder_optimizer.step()\n",
    "\n",
    "    return loss.data.item() / target_length"
   ]
  },
  {
   "cell_type": "markdown",
   "metadata": {},
   "source": [
    "This is a helper function to print time elapsed and estimated time\n",
    "remaining given the current time and progress %."
   ]
  },
  {
   "cell_type": "code",
   "execution_count": 20,
   "metadata": {},
   "outputs": [],
   "source": [
    "import time\n",
    "import math\n",
    "\n",
    "def asMinutes(s):\n",
    "    m = math.floor(s / 60)\n",
    "    s -= m * 60\n",
    "    return '%dm %ds' % (m, s)\n",
    "\n",
    "def timeSince(since, percent):\n",
    "    now = time.time()\n",
    "    s = now - since\n",
    "    es = s / (percent)\n",
    "    rs = es - s\n",
    "    return '%s (- %s)' % (asMinutes(s), asMinutes(rs))"
   ]
  },
  {
   "cell_type": "markdown",
   "metadata": {},
   "source": [
    "The whole training process looks like this:\n",
    "\n",
    "-  Start a timer\n",
    "-  Initialize optimizers and criterion\n",
    "-  Create set of training pairs\n",
    "-  Start empty losses array for plotting\n",
    "\n",
    "Then we call ``train`` many times and occasionally print the progress (%\n",
    "of examples, time so far, estimated time) and average loss.\n",
    "\n",
    "\n"
   ]
  },
  {
   "cell_type": "code",
   "execution_count": 21,
   "metadata": {},
   "outputs": [],
   "source": [
    "def trainIters(encoder, decoder, n_iters, print_every=1000, plot_every=100, learning_rate=0.01):\n",
    "    start = time.time()\n",
    "    plot_losses = []\n",
    "    print_loss_total = 0  # Reset every print_every\n",
    "    plot_loss_total = 0  # Reset every plot_every\n",
    "\n",
    "    encoder_optimizer = optim.SGD(encoder.parameters(), lr=learning_rate)\n",
    "    decoder_optimizer = optim.SGD(decoder.parameters(), lr=learning_rate)\n",
    "    \n",
    "    training_pairs = [variablesFromPair(random.choice(pairs))\n",
    "                      for i in range(n_iters)]\n",
    "    criterion = nn.NLLLoss()\n",
    "\n",
    "    for iter in range(1, n_iters + 1):\n",
    "        training_pair = training_pairs[iter - 1]\n",
    "        input_variable = training_pair[0]\n",
    "        target_variable = training_pair[1]\n",
    "\n",
    "        loss = train(input_variable, target_variable, encoder,\n",
    "                     decoder, encoder_optimizer, decoder_optimizer, criterion)\n",
    "        print_loss_total += loss\n",
    "        plot_loss_total += loss\n",
    "\n",
    "        if iter % print_every == 0:\n",
    "            print_loss_avg = print_loss_total / print_every\n",
    "            print_loss_total = 0\n",
    "            print('%s (%d %d%%) %.4f' % (timeSince(start, iter / n_iters),\n",
    "                                         iter, iter / n_iters * 100, print_loss_avg))\n",
    "\n",
    "        if iter % plot_every == 0:\n",
    "            plot_loss_avg = plot_loss_total / plot_every\n",
    "            plot_losses.append(plot_loss_avg)\n",
    "            plot_loss_total = 0\n",
    "\n",
    "    showPlot(plot_losses)"
   ]
  },
  {
   "cell_type": "markdown",
   "metadata": {},
   "source": [
    "Plotting results\n",
    "----------------\n",
    "\n",
    "Plotting is done with matplotlib, using the array of loss values\n",
    "``plot_losses`` saved while training.\n",
    "\n",
    "\n"
   ]
  },
  {
   "cell_type": "code",
   "execution_count": 22,
   "metadata": {},
   "outputs": [],
   "source": [
    "import matplotlib.pyplot as plt\n",
    "import matplotlib.ticker as ticker\n",
    "import numpy as np\n",
    "\n",
    "\n",
    "def showPlot(points):\n",
    "    plt.figure()\n",
    "    fig, ax = plt.subplots()\n",
    "    # this locator puts ticks at regular intervals\n",
    "    loc = ticker.MultipleLocator(base=0.2)\n",
    "    ax.yaxis.set_major_locator(loc)\n",
    "    plt.plot(points)"
   ]
  },
  {
   "cell_type": "markdown",
   "metadata": {},
   "source": [
    "Evaluation\n",
    "==========\n",
    "\n",
    "Evaluation is mostly the same as training, but there are no targets so\n",
    "we simply feed the decoder's predictions back to itself for each step.\n",
    "Every time it predicts a word we add it to the output string, and if it\n",
    "predicts the EOS token we stop there. We also store the decoder's\n",
    "attention outputs for display later.\n",
    "\n",
    "\n"
   ]
  },
  {
   "cell_type": "code",
   "execution_count": 23,
   "metadata": {},
   "outputs": [],
   "source": [
    "def evaluate(encoder, decoder, sentence, max_length=MAX_LENGTH):\n",
    "    input_variable = variableFromSentence(input_lang, sentence)\n",
    "    input_length = input_variable.size()[0]\n",
    "    encoder_hidden = encoder.initHidden()\n",
    "\n",
    "    encoder_outputs = Variable(torch.zeros(max_length, encoder.hidden_size))\n",
    "    encoder_outputs = encoder_outputs\n",
    "\n",
    "    for ei in range(input_length):\n",
    "        encoder_output, encoder_hidden = encoder(input_variable[ei],\n",
    "                                                 encoder_hidden)\n",
    "        encoder_outputs[ei] = encoder_outputs[ei] + encoder_output[0][0]\n",
    "\n",
    "    decoder_input = Variable(torch.LongTensor([[SOS_token]]))  # SOS\n",
    "    decoder_input = decoder_input\n",
    "\n",
    "    decoder_hidden = encoder_hidden\n",
    "\n",
    "    decoded_words = []\n",
    "    decoder_attentions = torch.zeros(max_length, max_length)\n",
    "\n",
    "    for di in range(max_length):\n",
    "        \n",
    "        #decoder_output, decoder_hidden = decoder(\n",
    "         #   decoder_input, decoder_hidden)\n",
    "\n",
    "        decoder_output, decoder_hidden, decoder_attention = decoder(\n",
    "            decoder_input, decoder_hidden, encoder_outputs)\n",
    "        decoder_attentions[di] = decoder_attention.data\n",
    "\n",
    "        topv, topi = decoder_output.data.topk(1)\n",
    "        ni = topi[0][0].item()\n",
    "\n",
    "        if ni == EOS_token:\n",
    "            decoded_words.append('<EOS>')\n",
    "            break\n",
    "        else:\n",
    "            decoded_words.append(output_lang.index2word[ni])\n",
    "\n",
    "        decoder_input = Variable(torch.LongTensor([[ni]]))\n",
    "\n",
    "    return decoded_words, decoder_attentions[:di + 1]\n",
    "    #return decoded_words"
   ]
  },
  {
   "cell_type": "markdown",
   "metadata": {},
   "source": [
    "We can evaluate random sentences from the training set and print out the\n",
    "input, target, and output to make some subjective quality judgements:\n",
    "\n",
    "\n"
   ]
  },
  {
   "cell_type": "code",
   "execution_count": 24,
   "metadata": {},
   "outputs": [],
   "source": [
    "def evaluateRandomly(encoder, decoder, n=10):\n",
    "    for i in range(n):\n",
    "        pair = random.choice(pairs)\n",
    "        print('>', pair[0])\n",
    "        print('=', pair[1])\n",
    "        \n",
    "        output_words, attentions = evaluate(encoder, decoder, pair[0])\n",
    "        #output_words = evaluate(encoder, decoder, pair[0])\n",
    "     \n",
    "        output_sentence = ' '.join(output_words)\n",
    "        print('<', output_sentence)\n",
    "        print('')"
   ]
  },
  {
   "cell_type": "markdown",
   "metadata": {},
   "source": [
    "Training and Evaluating\n",
    "=======================\n",
    "\n",
    "With all these helper functions in place (it looks like extra work, but\n",
    "it's easier to run multiple experiments easier) we can actually\n",
    "initialize a network and start training.\n",
    "\n",
    "Remember that they are very few input sentences. For this small\n",
    "dataset we can use relatively small networks of 100 hidden nodes and a\n",
    "single GRU layer. After about 3 minutes on a MacBook CPU we'll get some\n",
    "reasonable results.\n",
    "\n",
    ".. Note::\n",
    "   If you run this notebook you can train, interrupt the kernel,\n",
    "   evaluate, and continue training later. Comment out the lines where the\n",
    "   encoder and decoder are initialized and run ``trainIters`` again.\n",
    "\n",
    "\n"
   ]
  },
  {
   "cell_type": "code",
   "execution_count": 25,
   "metadata": {},
   "outputs": [
    {
     "name": "stdout",
     "output_type": "stream",
     "text": [
      "0m 33s (- 5m 1s) (1000 10%) 3.1983\n",
      "1m 10s (- 4m 40s) (2000 20%) 2.6839\n",
      "1m 49s (- 4m 15s) (3000 30%) 1.6586\n",
      "2m 30s (- 3m 45s) (4000 40%) 1.0201\n",
      "3m 9s (- 3m 9s) (5000 50%) 0.6078\n",
      "3m 47s (- 2m 31s) (6000 60%) 0.3782\n",
      "4m 28s (- 1m 55s) (7000 70%) 0.2682\n",
      "5m 9s (- 1m 17s) (8000 80%) 0.2386\n",
      "5m 52s (- 0m 39s) (9000 90%) 0.2190\n",
      "6m 32s (- 0m 0s) (10000 100%) 0.1707\n"
     ]
    },
    {
     "data": {
      "text/plain": [
       "<Figure size 432x288 with 0 Axes>"
      ]
     },
     "metadata": {},
     "output_type": "display_data"
    },
    {
     "data": {
      "image/png": "[encoded data removed]",
      "text/plain": [
       "<Figure size 432x288 with 1 Axes>"
      ]
     },
     "metadata": {
      "needs_background": "light"
     },
     "output_type": "display_data"
    }
   ],
   "source": [
    "hidden_size = 256\n",
    "#hidden_size = 100\n",
    "encoder1 = EncoderRNN(input_lang.n_words, hidden_size)\n",
    "\n",
    "attn_decoder1 = AttnDecoderRNN(hidden_size, output_lang.n_words,\n",
    "                               1, dropout_p=0.1)\n",
    "#attn_decoder1 = DecoderRNN(hidden_size, output_lang.n_words,1)\n",
    "\n",
    "#trainIters(encoder1, attn_decoder1, 75000, print_every=5000)\n",
    "trainIters(encoder1, attn_decoder1, 10000, print_every=1000)"
   ]
  },
  {
   "cell_type": "code",
   "execution_count": 26,
   "metadata": {},
   "outputs": [
    {
     "name": "stdout",
     "output_type": "stream",
     "text": [
      "> cordialement\n",
      "= cordialement\n",
      "< cordialement <EOS>\n",
      "\n",
      "> y a-t-il du data mining ?\n",
      "= oui\n",
      "< oui <EOS>\n",
      "\n",
      "> je veux faire ce master\n",
      "= merci j en prends note\n",
      "< merci j en prends note <EOS>\n",
      "\n",
      "> quelle date de rentree ?\n",
      "= la rentree est le 5 septembre\n",
      "< la rentree est le 5 septembre <EOS>\n",
      "\n",
      "> et on peut candidater aux deux parcours ?\n",
      "= en principe oui mais sachez que chaque parcours possede ses propres prerequis\n",
      "< en principe oui mais sachez que chaque parcours possede ses propres prerequis <EOS>\n",
      "\n",
      "> quelle date de rentree ?\n",
      "= la rentree est le 5 septembre\n",
      "< la rentree est le 5 septembre <EOS>\n",
      "\n",
      "> quels sont les cours enseignes ?\n",
      "= il faut regarder sur notre site web\n",
      "< il faut regarder sur notre site web <EOS>\n",
      "\n",
      "> combien y a-t-il d ects par cours ?\n",
      "= chaque cours vaut trois ects\n",
      "< chaque cours vaut trois ects <EOS>\n",
      "\n",
      "> quand ?\n",
      "= c est le 5 septembre 2018\n",
      "< c est le 5 septembre 2018 <EOS>\n",
      "\n",
      "> le master est-il ouvert en alternance ?\n",
      "= non\n",
      "< non <EOS>\n",
      "\n"
     ]
    }
   ],
   "source": [
    "evaluateRandomly(encoder1, attn_decoder1)"
   ]
  },
  {
   "cell_type": "markdown",
   "metadata": {},
   "source": [
    "New questions\n",
    "=========\n",
    "\n",
    "Ask new questions (never seen during training) using only the words that appear in your input vocabulary. "
   ]
  },
  {
   "cell_type": "code",
   "execution_count": 27,
   "metadata": {},
   "outputs": [
    {
     "name": "stdout",
     "output_type": "stream",
     "text": [
      "['Bonjour', 'je suis intéressé par la data science', \"C'est quand la rentrée\", 'Quels sont les cours enseignés', 'Quelle est la durée du stage', 'On peut faire un stage recherche en laboratoire', 'Merci monsieur']\n",
      "Bonjour\n",
      "-> bonjour <EOS>\n",
      "\n",
      "je suis intéressé par la data science\n",
      "-> que faites-vous sur ce forum ? <EOS>\n",
      "\n",
      "C'est quand la rentrée\n",
      "-> le 5 septembre <EOS>\n",
      "\n",
      "Quels sont les cours enseignés\n",
      "-> il faut regarder sur notre site web <EOS>\n",
      "\n",
      "Quelle est la durée du stage\n",
      "-> six mois <EOS>\n",
      "\n",
      "On peut faire un stage recherche en laboratoire\n",
      "-> oui <EOS>\n",
      "\n",
      "Merci monsieur\n",
      "-> de rien <EOS>\n",
      "\n"
     ]
    }
   ],
   "source": [
    "mail=\"Bonjour, je suis intéressé par la data science. C'est quand la rentrée ?\\\n",
    "Quels sont les cours enseignés  ? Quelle est la durée du stage ?\\\n",
    "On peut faire un stage recherche en laboratoire ? Merci monsieur.\"\n",
    "\n",
    "sentences = [s.strip() for s in re.split('[\\.\\,\\?\\!]' , mail)]\n",
    "print(sentences[:-1])\n",
    "sentences = sentences[:-1]\n",
    "\n",
    "for sentence in sentences : #sentence.split() :\n",
    "    sentence2= TrimWordsSentence(normalizeString(sentence))\n",
    "    #print(sentence2)\n",
    "    output_words, attentions = evaluate(encoder1, attn_decoder1, sentence2)\n",
    "    output_sentence = ' '.join(output_words)\n",
    "    print(sentence)\n",
    "    #print('=', sentence2)\n",
    "    print('->', output_sentence)\n",
    "    print('')\n",
    "    "
   ]
  },
  {
   "cell_type": "markdown",
   "metadata": {},
   "source": [
    "Visualizing Attention\n",
    "---------------------\n",
    "\n",
    "A useful property of the attention mechanism is its highly interpretable\n",
    "outputs. Because it is used to weight specific encoder outputs of the\n",
    "input sequence, we can imagine looking where the network is focused most\n",
    "at each time step.\n",
    "\n",
    "We simply run ``plt.matshow(attentions)`` to see attention output\n",
    "displayed as a matrix, with the columns being input steps and rows being\n",
    "output steps:"
   ]
  },
  {
   "cell_type": "markdown",
   "metadata": {},
   "source": [
    "For a better viewing experience we will do the extra work of adding axes\n",
    "and labels:\n",
    "\n",
    "\n"
   ]
  },
  {
   "cell_type": "code",
   "execution_count": 28,
   "metadata": {},
   "outputs": [
    {
     "data": {
      "image/png": "[encoded data removed]",
      "text/plain": [
       "<Figure size 432x288 with 2 Axes>"
      ]
     },
     "metadata": {
      "needs_background": "light"
     },
     "output_type": "display_data"
    },
    {
     "data": {
      "image/png": "[encoded data removed]",
      "text/plain": [
       "<Figure size 432x288 with 2 Axes>"
      ]
     },
     "metadata": {
      "needs_background": "light"
     },
     "output_type": "display_data"
    }
   ],
   "source": [
    "def showAttention(input_sentence, output_words, attentions):\n",
    "    # Set up figure with colorbar\n",
    "    fig = plt.figure()\n",
    "    ax = fig.add_subplot(111)\n",
    "    cax = ax.matshow(attentions.numpy(), cmap='bone')\n",
    "    fig.colorbar(cax)\n",
    "\n",
    "    # Set up axes\n",
    "    ax.set_xticklabels([''] + input_sentence.split(' ') +\n",
    "                       ['<EOS>'], rotation=90)\n",
    "    ax.set_yticklabels([''] + output_words)\n",
    "\n",
    "    # Show label at every tick\n",
    "    ax.xaxis.set_major_locator(ticker.MultipleLocator(1))\n",
    "    ax.yaxis.set_major_locator(ticker.MultipleLocator(1))\n",
    "\n",
    "    plt.show()\n",
    "\n",
    "def evaluateAndShowAttention(input_sentence):\n",
    "    output_words, attentions = evaluate(\n",
    "        encoder1, attn_decoder1, input_sentence)\n",
    "    showAttention(input_sentence, output_words, attentions)\n",
    "\n",
    "evaluateAndShowAttention(TrimWordsSentence(\"quelle est la date de la rentree 2018 ?\"))\n",
    "evaluateAndShowAttention(TrimWordsSentence(\"il faut faire un stage en entreprise  ?\"))"
   ]
  },
  {
   "cell_type": "markdown",
   "metadata": {},
   "source": [
    "---\n",
    "# TO DO\n",
    "\n",
    "\n",
    "\n",
    "-  Discuss the weaknesses of this simple approach\n",
    "-  Allow words in the new questions that were unseen during training.\n",
    "-  Allow questions of > 10 words (for instance, by selecting 10 words at random in the sentence).\n",
    "-  Adapt the code to handle several sequences at once (like an email)\n",
    "-  Replace the embeddings with pre-trained word embeddings such as word2vec (or GloVe).\n",
    "-  Try with more layers, more/less hidden units, and more sentences. Compare\n",
    "   the training time and performance.\n",
    "-  Define and plot other loss functions for this specific task (e.g. % correct words)\n"
   ]
  },
  {
   "cell_type": "markdown",
   "metadata": {},
   "source": [
    "# Further ideas (optional)\n",
    "- Use \"negative sampling\", i.e. sampling random words to form incorrect questions (answering the question with something like 'I don't understand your question, sorry.' in order to enforce the model recognize a questions that are not syntactically (and semantically) correct. \n",
    "The probability for selecting a word as a negative sample should be related to its frequency, with more frequent words being more likely to be selected as negative samples. \n",
    "- To reduce the size of the input vocabulary and thus the computational burden, try to replace all the unknwon words with an unknown token <UNK> instead of ignoring them.\n",
    "-  Adapt the decoder to infer directly the word embeddings (semantic) in the output sentence.  \n",
    "\n"
   ]
  },
  {
   "cell_type": "markdown",
   "metadata": {},
   "source": [
    "<h2>Allow words in new questions that are not seen during the training?</h2>\n",
    "\n",
    "We need to prepare data containing an invisible word using the function variableFromSentence (lang, sentence)"
   ]
  },
  {
   "cell_type": "code",
   "execution_count": 29,
   "metadata": {},
   "outputs": [
    {
     "name": "stdout",
     "output_type": "stream",
     "text": [
      "'débuter' not in the vocabulary\n"
     ]
    }
   ],
   "source": [
    "sentence_unseen='quelle est la date pour débuter le stage ?'\n",
    "try:\n",
    "    variable_unseen=variableFromSentence(input_lang,sentence_unseen)\n",
    "except KeyError as e:\n",
    "    print('{} not in the vocabulary'.format(e))"
   ]
  },
  {
   "cell_type": "markdown",
   "metadata": {},
   "source": [
    "We are sure that the word \"début\" is not included in our training entry.\n",
    "First solution, we delete all the invisible words and continue with this model. We need to override the indexesFromSentence method to get attention and with the remaining words, we draw attention and see if the answer is correct."
   ]
  },
  {
   "cell_type": "code",
   "execution_count": 30,
   "metadata": {},
   "outputs": [
    {
     "name": "stdout",
     "output_type": "stream",
     "text": [
      "[29, 8, 49, 46, 82, 32, 126, 6]\n",
      "['quelle', 'est', 'la', 'date', 'pour', 'le', 'stage', '?']\n"
     ]
    },
    {
     "data": {
      "image/png": "[encoded data removed]",
      "text/plain": [
       "<Figure size 432x288 with 2 Axes>"
      ]
     },
     "metadata": {
      "needs_background": "light"
     },
     "output_type": "display_data"
    }
   ],
   "source": [
    "def TrimWordsTest(question):\n",
    "    resultwords  = [word for word in question.split() if word.lower() not in stopwords]\n",
    "    question = ' '.join(resultwords)\n",
    "    return question\n",
    "\n",
    "def indexesFromSentence(lang, sentence):\n",
    "    indexes=[]\n",
    "    for word in sentence.split(' '):\n",
    "        try:\n",
    "            indexes.append(lang.word2index[word] )\n",
    "        except KeyError:\n",
    "                pass\n",
    "    return indexes\n",
    "indexes = indexesFromSentence(input_lang, sentence_unseen)\n",
    "print(indexes)\n",
    "sentence_after_elimination = []\n",
    "for i in indexes:\n",
    "    sentence_after_elimination.append(input_lang.index2word[i])\n",
    "print(sentence_after_elimination)\n",
    "evaluateAndShowAttention(TrimWordsTest(sentence_unseen))"
   ]
  },
  {
   "cell_type": "markdown",
   "metadata": {},
   "source": [
    "We see that the chatBot has given a false answer. So we need to improve our model by replacing ___ nesting with pre-formed word nests, such as word2vec .__"
   ]
  },
  {
   "cell_type": "markdown",
   "metadata": {},
   "source": [
    "### Replacing the embeddings with pre-trained word embeddings such as word2vec ?"
   ]
  },
  {
   "cell_type": "code",
   "execution_count": 31,
   "metadata": {},
   "outputs": [
    {
     "name": "stdout",
     "output_type": "stream",
     "text": [
      "(339, 500)\n",
      "1m 25s (- 12m 46s) (500 10%) 3.1359\n",
      "3m 5s (- 12m 21s) (1000 20%) 3.3807\n",
      "4m 43s (- 11m 2s) (1500 30%) 2.9475\n",
      "6m 25s (- 9m 37s) (2000 40%) 2.4333\n",
      "8m 4s (- 8m 4s) (2500 50%) 2.2670\n",
      "9m 46s (- 6m 30s) (3000 60%) 1.8306\n",
      "11m 28s (- 4m 54s) (3500 70%) 1.2974\n",
      "13m 12s (- 3m 18s) (4000 80%) 1.1564\n",
      "15m 10s (- 1m 41s) (4500 90%) 0.9584\n",
      "17m 3s (- 0m 0s) (5000 100%) 0.6062\n"
     ]
    },
    {
     "data": {
      "text/plain": [
       "<Figure size 432x288 with 0 Axes>"
      ]
     },
     "metadata": {},
     "output_type": "display_data"
    },
    {
     "data": {
      "image/png": "[encoded data removed]",
      "text/plain": [
       "<Figure size 432x288 with 1 Axes>"
      ]
     },
     "metadata": {
      "needs_background": "light"
     },
     "output_type": "display_data"
    }
   ],
   "source": [
    "import  gensim\n",
    "#word_vectors = gensim.models.KeyedVectors.load_word2vec_format('frWiki_no_phrase_no_postag_1000_skip_cut200.bin', binary=True)\n",
    "word_vectors = gensim.models.KeyedVectors.load_word2vec_format('frWac_no_postag_phrase_500_cbow_cut100.bin', binary=True)\n",
    "# assemble the embedding_weights in one numpy array\n",
    "vocab_dim = 500 # dimensionality of your word vectors\n",
    "n_symbols = input_lang.n_words + 1 # adding 1 to account for 0th index (for masking)\n",
    "embedding_weights = np.zeros((n_symbols, vocab_dim))\n",
    "for word,index in input_lang.word2index.items():\n",
    "    try:\n",
    "        embedding_weights[index, :] = word_vectors.get_vector(word)\n",
    "    except KeyError:\n",
    "        pass\n",
    "hidden_size = vocab_dim\n",
    "#embedding_weights = embedding_weights[0:input_lang.n_words, 0:n_symbols]\n",
    "def get_embedding_weights():\n",
    "    return embedding_weights\n",
    "print(embedding_weights.shape)\n",
    "class EncoderRNN_with_trained_embedding(nn.Module):\n",
    "    def __init__(self, input_size, n_symbols, pretrained_embed, n_layers=1):\n",
    "        super(EncoderRNN_with_trained_embedding, self).__init__()\n",
    "        self.n_layers = n_layers\n",
    "        self.hidden_size = hidden_size\n",
    "\n",
    "        self.embedding = nn.Embedding(input_size, hidden_size)\n",
    "        pretrained_embed = torch.Tensor(pretrained_embed)\n",
    "        self.embedding.weight = nn.Parameter(pretrained_embed)\n",
    "        self.gru = nn.GRU(hidden_size, hidden_size)\n",
    "\n",
    "    def forward(self, input, hidden):\n",
    "        embedded = self.embedding(input).view(1, 1, -1)\n",
    "        output = embedded\n",
    "        for i in range(self.n_layers):\n",
    "            output, hidden = self.gru(output, hidden)\n",
    "        return output, hidden\n",
    "\n",
    "    def initHidden(self):\n",
    "        result = Variable(torch.zeros(1, 1, self.hidden_size))\n",
    "        return result\n",
    "\n",
    "class AttnDecoderRNN_with_trained_embedding(nn.Module):\n",
    "    def __init__(self, hidden_size, output_size, pretrained_embed, n_layers=1, dropout_p=0.1, max_length=MAX_LENGTH):\n",
    "        super(AttnDecoderRNN_with_trained_embedding, self).__init__()\n",
    "        self.hidden_size = hidden_size\n",
    "        self.output_size = output_size\n",
    "        self.n_layers = n_layers\n",
    "        self.dropout_p = dropout_p\n",
    "        self.max_length = max_length\n",
    "\n",
    "        self.embedding = nn.Embedding(self.output_size, self.hidden_size)\n",
    "        pretrained_embed = torch.Tensor(pretrained_embed)\n",
    "        self.embedding.weight = nn.Parameter(pretrained_embed)\n",
    "        self.attn = nn.Linear(self.hidden_size * 2, self.max_length)\n",
    "        self.attn_combine = nn.Linear(self.hidden_size * 2, self.hidden_size)\n",
    "        self.dropout = nn.Dropout(self.dropout_p)\n",
    "        self.gru = nn.GRU(self.hidden_size, self.hidden_size)\n",
    "        self.out = nn.Linear(self.hidden_size, self.output_size)\n",
    "\n",
    "    def forward(self, input, hidden, encoder_outputs):\n",
    "        embedded = self.embedding(input).view(1, 1, -1)\n",
    "        embedded = self.dropout(embedded)\n",
    "\n",
    "        attn_weights = F.softmax(\n",
    "            self.attn(torch.cat((embedded[0], hidden[0]), 1)))#, dim=1)\n",
    "        attn_applied = torch.bmm(attn_weights.unsqueeze(0),\n",
    "                                 encoder_outputs.unsqueeze(0))\n",
    "\n",
    "        output = torch.cat((embedded[0], attn_applied[0]), 1)\n",
    "        output = self.attn_combine(output).unsqueeze(0)\n",
    "\n",
    "        for i in range(self.n_layers):\n",
    "            output = F.relu(output)\n",
    "            output, hidden = self.gru(output, hidden)\n",
    "\n",
    "        output = F.log_softmax(self.out(output[0]))#, dim=1)\n",
    "        return output, hidden, attn_weights\n",
    "\n",
    "    def initHidden(self):\n",
    "        result = Variable(torch.zeros(1, 1, self.hidden_size))\n",
    "        return result\n",
    "\n",
    "encoder1 = EncoderRNN_with_trained_embedding(input_lang.n_words, hidden_size, embedding_weights)\n",
    "attn_decoder1 = AttnDecoderRNN_with_trained_embedding(hidden_size, output_lang.n_words, embedding_weights,\n",
    "                               1, dropout_p=0.1)\n",
    "\n",
    "\n",
    "\n",
    "    #output_dim=vocab_dim, input_dim=n_symbols\n",
    "#trainIters(encoder1, attn_decoder1, 75000, print_every=5000)\n",
    "trainIters(encoder1, attn_decoder1, 5000, print_every=500)"
   ]
  },
  {
   "cell_type": "code",
   "execution_count": 32,
   "metadata": {},
   "outputs": [
    {
     "name": "stdout",
     "output_type": "stream",
     "text": [
      "[29, 8, 49, 46, 82, 32, 126, 6]\n"
     ]
    },
    {
     "data": {
      "image/png": "[encoded data removed]",
      "text/plain": [
       "<Figure size 432x288 with 2 Axes>"
      ]
     },
     "metadata": {
      "needs_background": "light"
     },
     "output_type": "display_data"
    }
   ],
   "source": [
    "indexes = indexesFromSentence(input_lang, sentence_unseen)\n",
    "print(indexes)\n",
    "sentence_after_elimination = []\n",
    "for i in indexes:\n",
    "    sentence_after_elimination.append(input_lang.index2word[i])\n",
    "#print(sentence_after_elimination)\n",
    "#str1 = ' '.join(sentence_after_elimination)\n",
    "evaluateAndShowAttention(TrimWordsTest(\"combien de module on a dans le master ?\"))\n",
    "#print(word_vectors.get_vector(\"enseignant\"))"
   ]
  },
  {
   "cell_type": "code",
   "execution_count": 33,
   "metadata": {},
   "outputs": [
    {
     "name": "stdout",
     "output_type": "stream",
     "text": [
      "[29, 8, 49, 46, 82, 32, 126, 6]\n"
     ]
    },
    {
     "data": {
      "image/png": "[encoded data removed]",
      "text/plain": [
       "<Figure size 432x288 with 2 Axes>"
      ]
     },
     "metadata": {
      "needs_background": "light"
     },
     "output_type": "display_data"
    }
   ],
   "source": [
    "indexes = indexesFromSentence(input_lang, sentence_unseen)\n",
    "print(indexes)\n",
    "evaluateAndShowAttention(TrimWordsTest(\"quel est le taux de succès du master ?\"))"
   ]
  },
  {
   "cell_type": "markdown",
   "metadata": {},
   "source": [
    "We have a good chatbot behavior. But it's not yet complete. A bigger corpus could improve this chatBot. To achieve this result, I thought a lot and tried several methods:\n",
    "\n",
    "We have tried many pre-trained Word2vec Embeddings downloaded from http://fauconnier.github.io/#about in order to have as few losses as possible. I manage to have a loss of 0.3, which is better than the starting loss.\n",
    "\n",
    "We tried to extract the nestings of the original model (without pre-trained imitations) in order to be able to annex the nesting of the words existing in the corpus but not in the pre-driven nesting downloaded. But it was in vain because I did not find the right way to do it.\n",
    "\n",
    "We obtained the pre-formed Embeddings, inserted them in the encoder integration layer as well as in the decoder integration layer, and then evaluated the result.\n",
    "\n",
    "Even if the answers are acceptable, the attention does not seem consistent. Which means that the chatbot needs more work to be trained."
   ]
  },
  {
   "cell_type": "markdown",
   "metadata": {},
   "source": [
    "### Allow questions of > 10 words (for instance, by selecting 10 words at random in the sentence) ?"
   ]
  },
  {
   "cell_type": "code",
   "execution_count": 34,
   "metadata": {},
   "outputs": [
    {
     "name": "stdout",
     "output_type": "stream",
     "text": [
      "Quelle est la procédure en cas de la non validation d'un ou plusieurs modules au master ?\n",
      "plusieurs la master non procédure au modules cas en ?\n"
     ]
    }
   ],
   "source": [
    "import random\n",
    "Long_question = \"Quelle est la procédure en cas de la non validation d\\'un ou plusieurs modules au master ?\"\n",
    "Long_question = TrimWordsTest(Long_question)\n",
    "print(Long_question)\n",
    "def get_10_rand_words(Long_question):\n",
    "    Long_question_10_words = \"\"\n",
    "    words = Long_question.split()\n",
    "    random_words=[]\n",
    "    random_word = random.choice(words)\n",
    "    while random_word == \"?\":\n",
    "        random_word = random.choice(words)\n",
    "    Long_question_10_words += random_word\n",
    "    Long_question_10_words += \" \"\n",
    "    random_words.append(random_word)\n",
    "    for i in range(0,8):\n",
    "        random_word = random.choice(words)\n",
    "        while (random_word in random_words or random_word == \"?\"):\n",
    "            random_word = random.choice(words)\n",
    "        random_words.append(random_word)\n",
    "        Long_question_10_words+=random_word\n",
    "        if i < 8:\n",
    "            Long_question_10_words += \" \"\n",
    "    Long_question_10_words += \"?\"\n",
    "    return Long_question_10_words\n",
    "print(get_10_rand_words(Long_question))"
   ]
  },
  {
   "cell_type": "code",
   "execution_count": 35,
   "metadata": {},
   "outputs": [
    {
     "data": {
      "image/png": "[encoded data removed]",
      "text/plain": [
       "<Figure size 432x288 with 2 Axes>"
      ]
     },
     "metadata": {
      "needs_background": "light"
     },
     "output_type": "display_data"
    }
   ],
   "source": [
    "evaluateAndShowAttention(TrimWordsTest(get_10_rand_words(Long_question)))"
   ]
  },
  {
   "cell_type": "markdown",
   "metadata": {},
   "source": [
    "__With the function above, we can have a question with 10 random words in random order. Looking at the attention, we can not expect a good answer because the corpus does not contain half or more of these words."
   ]
  },
  {
   "cell_type": "markdown",
   "metadata": {},
   "source": [
    "__To improve the behavior of the cat, I thought it would be a good idea to allow the use of unseen words with a different strategy: __"
   ]
  },
  {
   "cell_type": "markdown",
   "metadata": {},
   "source": [
    "* For example, why not get the word closest to the invisible word in the corpus from preformed integrations."
   ]
  },
  {
   "cell_type": "code",
   "execution_count": 36,
   "metadata": {},
   "outputs": [],
   "source": [
    "#print(word_vectors.index2entity[0])\n",
    "def check_if_word_in_corpus(lang, word):\n",
    "    for i in range(0, lang.n_words):\n",
    "        if(lang.index2word[i] == word):\n",
    "            return i\n",
    "    return -1\n",
    "        \n",
    "def get_most_close_word_from_preTrained(lang, word):\n",
    "    most_similar = word_vectors.index2entity[1]\n",
    "    try:\n",
    "        d = word_vectors.similarity(word_vectors.index2entity[1], word)\n",
    "    except:\n",
    "        pass\n",
    "    for w in word_vectors.index2entity:\n",
    "        try:\n",
    "            d1 = word_vectors.similarity(w, word)\n",
    "            if(d1 >= d and check_if_word_in_corpus(lang, w) != -1):\n",
    "                d = d1\n",
    "                most_similar = w\n",
    "                #print('a={:f}, b={:d}, c={:s}'.format(d, check_if_word_in_corpus(lang, word), w))\n",
    "        except KeyError:\n",
    "            pass\n",
    "            \n",
    "    if most_similar == word_vectors.index2entity[1]:# if no word is is found\n",
    "        return -1\n",
    "        #if(check_if_word_in_corpus(lang, most_similar) == -1 and most_similar in word_vectors.index2entity):\n",
    "        #    lang.addWord(most_similar)\n",
    "        #    embedding_weights = get_embedding_weights()\n",
    "        #    #embedding_weights = embedding_weights.numpy()\n",
    "        #    np.vstack((embedding_weights, word_vectors.get_vector(most_similar)))\n",
    "        #    #embedding_weights.append(word_vectors.get_vector(most_similar))\n",
    "        #    encoder1 = EncoderRNN_with_trained_embedding(input_lang.n_words, hidden_size, embedding_weights)\n",
    "        #    attn_decoder1 = AttnDecoderRNN_with_trained_embedding(hidden_size, output_lang.n_words, embedding_weights,\n",
    "        #                          1, dropout_p=0.1)\n",
    "        #    trainIters(encoder1, attn_decoder1, 5000, print_every=500)\n",
    "    return most_similar\n",
    "        \n",
    "def indexesFromSentence(lang, sentence):\n",
    "    indexes=[]\n",
    "    for word in sentence.split(' '):\n",
    "        try:\n",
    "            indexes.append(lang.word2index[word])\n",
    "        except KeyError:\n",
    "            if get_most_close_word_from_preTrained(lang, word) != -1:\n",
    "                print(get_most_close_word_from_preTrained(lang, word))\n",
    "                indexes.append(lang.word2index[get_most_close_word_from_preTrained(lang, word)])\n",
    "            else:\n",
    "                pass\n",
    "    return indexes"
   ]
  },
  {
   "cell_type": "markdown",
   "metadata": {},
   "source": [
    "In the cell above, note that I commented on the code block below the if statement (if most_similar == word_vectors.index2entity [1] :). This code must be executed if the word is not in the corpus but exists in the file containing the pre-formed Embeddings: I add the embedding in the Embdding matrix, then I instantiate another encoder and decoder, then I form the model for itself with the new integration. In fact, I tried this code and it works well, but I commented so that I can test the model without having to train each time. Instead, I simply return -1 if I do not find a similar word that exists simultaneously in the corpus and in the embedding file. With this strategy, the model works so well ... The tests in the cell below are satisfactory"
   ]
  },
  {
   "cell_type": "code",
   "execution_count": 37,
   "metadata": {},
   "outputs": [
    {
     "name": "stdout",
     "output_type": "stream",
     "text": [
      "le\n",
      "contenu\n",
      "tensor([[ 32],\n",
      "        [ 49],\n",
      "        [138],\n",
      "        [238],\n",
      "        [ 27],\n",
      "        [ 82],\n",
      "        [174],\n",
      "        [ 63],\n",
      "        [  6],\n",
      "        [  1]])\n",
      "sont\n",
      "contenu\n",
      "informatique\n"
     ]
    },
    {
     "data": {
      "image/png": "[encoded data removed]",
      "text/plain": [
       "<Figure size 432x288 with 2 Axes>"
      ]
     },
     "metadata": {
      "needs_background": "light"
     },
     "output_type": "display_data"
    },
    {
     "name": "stdout",
     "output_type": "stream",
     "text": [
      "fin\n"
     ]
    },
    {
     "data": {
      "image/png": "[encoded data removed]",
      "text/plain": [
       "<Figure size 432x288 with 2 Axes>"
      ]
     },
     "metadata": {
      "needs_background": "light"
     },
     "output_type": "display_data"
    },
    {
     "name": "stdout",
     "output_type": "stream",
     "text": [
      "pourcentage\n",
      "dernier\n"
     ]
    },
    {
     "data": {
      "image/png": "[encoded data removed]",
      "text/plain": [
       "<Figure size 432x288 with 2 Axes>"
      ]
     },
     "metadata": {
      "needs_background": "light"
     },
     "output_type": "display_data"
    }
   ],
   "source": [
    "#print(embedding_weights)\n",
    "\n",
    "#print(word_vectors.index2entity[0])\n",
    "Long_question = \"comment on fait pour avoir nos indentifiants pour accéder à la messagerie de Lyon 1 ?\"\n",
    "print(variableFromSentence(input_lang, TrimWordsTest(get_10_rand_words(Long_question))))\n",
    "evaluateAndShowAttention(TrimWordsTest(get_10_rand_words(Long_question)))\n",
    "evaluateAndShowAttention(TrimWordsTest(\"quelle est la date pour débuter le stage ?\"))\n",
    "evaluateAndShowAttention(TrimWordsTest(\"quel est le taux de succès du master ?\"))\n",
    "#print(input_lang.word2index.items())\n",
    "#print(input_lang.word2index['statisque'])"
   ]
  },
  {
   "cell_type": "markdown",
   "metadata": {},
   "source": [
    "### Try with more/less hidden units, and more sentences. Compare the training time and performance ?"
   ]
  },
  {
   "cell_type": "code",
   "execution_count": 38,
   "metadata": {},
   "outputs": [
    {
     "name": "stdout",
     "output_type": "stream",
     "text": [
      "16m 49s (- 151m 29s) (500 10%) 3.2576\n",
      "18m 58s (- 75m 52s) (1000 20%) 3.3156\n",
      "21m 12s (- 49m 28s) (1500 30%) 3.0359\n",
      "23m 26s (- 35m 9s) (2000 40%) 2.4084\n",
      "25m 51s (- 25m 51s) (2500 50%) 2.2319\n",
      "28m 8s (- 18m 45s) (3000 60%) 1.7586\n",
      "30m 28s (- 13m 3s) (3500 70%) 1.4570\n",
      "32m 51s (- 8m 12s) (4000 80%) 1.1560\n",
      "35m 19s (- 3m 55s) (4500 90%) 1.0540\n",
      "37m 51s (- 0m 0s) (5000 100%) 0.7941\n"
     ]
    },
    {
     "data": {
      "text/plain": [
       "<Figure size 432x288 with 0 Axes>"
      ]
     },
     "metadata": {},
     "output_type": "display_data"
    },
    {
     "data": {
      "image/png": "[encoded data removed]",
      "text/plain": [
       "<Figure size 432x288 with 1 Axes>"
      ]
     },
     "metadata": {
      "needs_background": "light"
     },
     "output_type": "display_data"
    }
   ],
   "source": [
    "hidden_size_2 = 500\n",
    "encoder2 = EncoderRNN_with_trained_embedding(input_lang.n_words, hidden_size_2, embedding_weights)\n",
    "attn_decoder2 = AttnDecoderRNN_with_trained_embedding(hidden_size_2, output_lang.n_words, embedding_weights,\n",
    "                               1, dropout_p=0.1)\n",
    "\n",
    "trainIters(encoder2, attn_decoder2, 5000, print_every=500)"
   ]
  },
  {
   "cell_type": "code",
   "execution_count": 39,
   "metadata": {},
   "outputs": [
    {
     "name": "stdout",
     "output_type": "stream",
     "text": [
      "le\n",
      "informatique\n",
      "tensor([[ 27],\n",
      "        [ 63],\n",
      "        [ 49],\n",
      "        [ 32],\n",
      "        [ 68],\n",
      "        [ 82],\n",
      "        [133],\n",
      "        [  6],\n",
      "        [  1]])\n",
      "le\n",
      "input = Lyon 1 on la de pour fait à avoir ?\n",
      "output = non est a 5 places et 5 mois <EOS>\n"
     ]
    },
    {
     "data": {
      "image/png": "[encoded data removed]",
      "text/plain": [
       "<Figure size 432x288 with 2 Axes>"
      ]
     },
     "metadata": {
      "needs_background": "light"
     },
     "output_type": "display_data"
    },
    {
     "name": "stdout",
     "output_type": "stream",
     "text": [
      "fin\n",
      "input = quelle est la date pour débuter le stage ?\n",
      "output = le stage doit finir absolument avant le 30 septembre <EOS>\n"
     ]
    },
    {
     "data": {
      "image/png": "[encoded data removed]",
      "text/plain": [
       "<Figure size 432x288 with 2 Axes>"
      ]
     },
     "metadata": {
      "needs_background": "light"
     },
     "output_type": "display_data"
    },
    {
     "name": "stdout",
     "output_type": "stream",
     "text": [
      "pourcentage\n",
      "dernier\n",
      "input = quel est le taux de succès du master ?\n",
      "output = c est le 5 septembre <EOS>\n"
     ]
    },
    {
     "data": {
      "image/png": "[encoded data removed]",
      "text/plain": [
       "<Figure size 432x288 with 2 Axes>"
      ]
     },
     "metadata": {
      "needs_background": "light"
     },
     "output_type": "display_data"
    }
   ],
   "source": [
    "Long_question = \"comment on fait pour avoir nos indentifiants pour accéder à la messagerie de Lyon 1 ?\"\n",
    "print(variableFromSentence(input_lang, TrimWordsTest(get_10_rand_words(Long_question))))\n",
    "def evaluateAndShowAttention_2(input_sentence):\n",
    "    output_words, attentions = evaluate(\n",
    "        encoder2, attn_decoder2, input_sentence)\n",
    "    print('input =', input_sentence)\n",
    "    print('output =', ' '.join(output_words))\n",
    "    showAttention(input_sentence, output_words, attentions)\n",
    "evaluateAndShowAttention_2(TrimWordsTest(get_10_rand_words(Long_question)))\n",
    "evaluateAndShowAttention_2(TrimWordsTest(\"quelle est la date pour débuter le stage ?\"))\n",
    "evaluateAndShowAttention_2(TrimWordsTest(\"quel est le taux de succès du master ?\"))"
   ]
  },
  {
   "cell_type": "markdown",
   "metadata": {},
   "source": [
    "We find that the training time has increased, which is predictable given the hidden size. In addition, the loss is now slightly less than 0.2, which is an improvement.\n",
    "\n",
    "To conclude, we managed to have a good behavior of ChatBot, but we still have room to improve the performence."
   ]
  }
 ],
 "metadata": {
  "kernelspec": {
   "display_name": "Python 3",
   "language": "python",
   "name": "python3"
  },
  "language_info": {
   "codemirror_mode": {
    "name": "ipython",
    "version": 3
   },
   "file_extension": ".py",
   "mimetype": "text/x-python",
   "name": "python",
   "nbconvert_exporter": "python",
   "pygments_lexer": "ipython3",
   "version": "3.7.1"
  }
 },
 "nbformat": 4,
 "nbformat_minor": 1
}
